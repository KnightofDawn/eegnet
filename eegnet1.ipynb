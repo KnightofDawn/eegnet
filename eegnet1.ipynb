{
 "cells": [
  {
   "cell_type": "code",
   "execution_count": 2,
   "metadata": {
    "collapsed": false
   },
   "outputs": [
    {
     "name": "stdout",
     "output_type": "stream",
     "text": [
      "import done\n"
     ]
    }
   ],
   "source": [
    "import numpy as np\n",
    "from scipy.io import loadmat\n",
    "import os\n",
    "import glob\n",
    "import re\n",
    "import sys\n",
    "from six.moves import cPickle as pickle\n",
    "\n",
    "print(\"import done\")"
   ]
  },
  {
   "cell_type": "code",
   "execution_count": null,
   "metadata": {
    "collapsed": false
   },
   "outputs": [
    {
     "name": "stdout",
     "output_type": "stream",
     "text": [
      "train_1_res1_idx0.pickle  already present. Skip pickling.\n",
      "train_1_res1_idx1.pickle  already present. Skip pickling.\n",
      "train_1_res1_idx2.pickle  already present. Skip pickling.\n",
      "train_1_res1_idx3.pickle  already present. Skip pickling.\n",
      "Reading file ./train_1/1_1_0.mat to ./train_1/1_45_0.mat\n",
      "Pickling to train_1_res0_idx0.pickle\n",
      "Reading file ./train_1/1_46_0.mat to ./train_1/1_90_0.mat\n",
      "Pickling to train_1_res0_idx1.pickle\n",
      "Reading file ./train_1/1_91_0.mat to ./train_1/1_135_0.mat\n",
      "Pickling to train_1_res0_idx2.pickle\n",
      "Reading file ./train_1/1_136_0.mat to ./train_1/1_180_0.mat\n",
      "Pickling to train_1_res0_idx3.pickle\n",
      "Reading file ./train_1/1_181_0.mat to ./train_1/1_225_0.mat\n",
      "Pickling to train_1_res0_idx4.pickle\n",
      "Reading file ./train_1/1_226_0.mat to ./train_1/1_270_0.mat\n",
      "Pickling to train_1_res0_idx5.pickle\n",
      "Reading file ./train_1/1_271_0.mat to ./train_1/1_315_0.mat\n",
      "Pickling to train_1_res0_idx6.pickle\n",
      "Reading file ./train_1/1_316_0.mat to ./train_1/1_360_0.mat\n",
      "Pickling to train_1_res0_idx7.pickle\n"
     ]
    }
   ],
   "source": [
    "#get segment from 'patient_segment_result.mat' for file name ordering\n",
    "def natural_key(string_):\n",
    "    return [int(s) if s.isdigit() else s for s in re.split(r'(\\d+)', string_)]\n",
    "\n",
    "#convert .mat data into ndarray and compress it usingle pickle\n",
    "def pickle_data(files_pickle, name_pickle):\n",
    "    print('Reading file ' + files_pickle[0] + ' to ' + files_pickle[-1])\n",
    "    nrfiles = len(files_pickle)\n",
    "    placeholder_data = np.ndarray(shape=(nrfiles, 400*10*60, 16), dtype=np.float32)\n",
    "    placeholder_seq = np.ndarray(shape=(nrfiles), dtype=np.int32)\n",
    "    for idx, fl in enumerate(files_pickle):\n",
    "        #open mat file\n",
    "        mat = loadmat(fl)\n",
    "        #convert from ndarray object to ndarray\n",
    "        names = mat['dataStruct'].dtype.names\n",
    "        ndata = {n: mat['dataStruct'][n][0, 0] for n in names}\n",
    "        #detect if columns out of order\n",
    "        if not all(x<y for x, y in zip(ndata['channelIndices'][0], ndata['channelIndices'][0][1:])):\n",
    "            print('WARNING: Columns out of order in file' + fl)\n",
    "        placeholder_data[idx, :, :] = ndata['data']\n",
    "        placeholder_seq[idx] = ndata['sequence']\n",
    "    #bundle data in a dictionary \n",
    "    placeholder = {'data': placeholder_data, 'seq': placeholder_seq}\n",
    "    \n",
    "    try:\n",
    "        with open(name_pickle, 'wb') as f:\n",
    "            print('Pickling to ' + name_pickle)\n",
    "            pickle.dump(placeholder, f, pickle.HIGHEST_PROTOCOL)\n",
    "    except Exception as e:\n",
    "        print('Unable to save data to' + name_pickle + ' :', e)\n",
    "\n",
    "nrfiles_pickle = 45\n",
    "        \n",
    "def dataset_patient(folder_pat, result):\n",
    "    #get files\n",
    "    files = sorted(glob.glob(folder_pat + \"/*\" + result + \".mat\"), key=natural_key)\n",
    "    files = [files[i:i + nrfiles_pickle] for i in xrange(0, len(files), nrfiles_pickle)]\n",
    "    #concatenate remainder if size too small\n",
    "    if (len(files[-1]) < 4):\n",
    "        files[-2].extend(files[-1])\n",
    "        del files[-1]\n",
    "    #create pickle files\n",
    "    for idx, fl in enumerate(files):\n",
    "        picklefile = folder_pat.split('/')[1] + '_res' + result + '_idx' + str(idx) + '.pickle'\n",
    "        if (os.path.exists(picklefile)):\n",
    "            print(picklefile + '  already present. Skip pickling.')\n",
    "        else:\n",
    "            pickle_data(fl, picklefile)\n",
    "    \n",
    "dataset_patient('./train_1', '1')\n",
    "dataset_patient('./train_1', '0')\n",
    "\n",
    "print('done')"
   ]
  },
  {
   "cell_type": "code",
   "execution_count": 20,
   "metadata": {
    "collapsed": false
   },
   "outputs": [
    {
     "name": "stdout",
     "output_type": "stream",
     "text": [
      "(37, 240000, 16)\n"
     ]
    }
   ],
   "source": [
    "with open('train_1_res1_idx0.pickle', 'rb') as f:\n",
    "    data = pickle.load(f)\n",
    "    print(data['data'].shape)\n",
    "    print(data['seq'].shape)"
   ]
  },
  {
   "cell_type": "code",
   "execution_count": 28,
   "metadata": {
    "collapsed": false
   },
   "outputs": [
    {
     "name": "stdout",
     "output_type": "stream",
     "text": [
      "[[1 1]\n",
      " [2 2]\n",
      " [1 2]]\n",
      "[1 1]\n"
     ]
    }
   ],
   "source": [
    "x = np.array([[1, 1], [2, 2], [1,2]])\n",
    "\n",
    "print(x)\n",
    "\n",
    "print(x[0])"
   ]
  },
  {
   "cell_type": "code",
   "execution_count": null,
   "metadata": {
    "collapsed": true
   },
   "outputs": [],
   "source": []
  }
 ],
 "metadata": {
  "kernelspec": {
   "display_name": "Python 2",
   "language": "python",
   "name": "python2"
  },
  "language_info": {
   "codemirror_mode": {
    "name": "ipython",
    "version": 2
   },
   "file_extension": ".py",
   "mimetype": "text/x-python",
   "name": "python",
   "nbconvert_exporter": "python",
   "pygments_lexer": "ipython2",
   "version": "2.7.6"
  }
 },
 "nbformat": 4,
 "nbformat_minor": 0
}
