{
 "cells": [
  {
   "cell_type": "code",
   "execution_count": 1,
   "metadata": {
    "collapsed": false
   },
   "outputs": [
    {
     "name": "stdout",
     "output_type": "stream",
     "text": [
      "import done\n"
     ]
    }
   ],
   "source": [
    "from __future__ import print_function\n",
    "import numpy as np\n",
    "from scipy.io import loadmat\n",
    "import os\n",
    "import glob\n",
    "from six.moves import cPickle as pickle\n",
    "\n",
    "import matplotlib.pyplot as plt\n",
    "%matplotlib inline\n",
    "\n",
    "print(\"import done\")"
   ]
  },
  {
   "cell_type": "markdown",
   "metadata": {},
   "source": [
    "Create Datasets by randomly mixing 10min segments of preictal and interictal data."
   ]
  },
  {
   "cell_type": "code",
   "execution_count": 14,
   "metadata": {
    "collapsed": false
   },
   "outputs": [
    {
     "name": "stdout",
     "output_type": "stream",
     "text": [
      "Converting files ./train_1/1_118_1.mat to ./train_1/1_117_1.mat\n"
     ]
    },
    {
     "name": "stderr",
     "output_type": "stream",
     "text": [
      "/usr/local/lib/python2.7/dist-packages/ipykernel/__main__.py:16: RuntimeWarning: invalid value encountered in divide\n"
     ]
    },
    {
     "name": "stdout",
     "output_type": "stream",
     "text": [
      "Converting files ./train_1/1_1042_0.mat to ./train_1/1_605_0.mat\n",
      "Merging and shuffling data..\n",
      "Pickling to trainsh1_norm.pickle\n",
      "dataset done\n"
     ]
    }
   ],
   "source": [
    "#convert .mat data into ndarray and compress it usingle pickle\n",
    "def mat_to_numpy(files):\n",
    "    print('Converting files ' + files[0] + ' to ' + files[-1])\n",
    "    nrfiles = len(files)\n",
    "    placeholder_data = np.ndarray(shape=(nrfiles, 400*10*60, 16), dtype=np.float32)\n",
    "    for idx, fl in enumerate(files):\n",
    "        #open mat file\n",
    "        mat = loadmat(fl)\n",
    "        #convert from ndarray object to ndarray\n",
    "        names = mat['dataStruct'].dtype.names\n",
    "        ndata = {n: mat['dataStruct'][n][0, 0] for n in names}\n",
    "        #detect if columns out of order\n",
    "        if not all(x<y for x, y in zip(ndata['channelIndices'][0], ndata['channelIndices'][0][1:])):\n",
    "            print('WARNING: Columns out of order in file' + fl)\n",
    "        # Normalize data: axis = 0 is to normalize along columns, vertical lines.\n",
    "        #todo: Is it ok to normalize or not?\n",
    "        placeholder_data[idx, :, :] = (ndata['data'] - np.mean(ndata['data'], axis=0))/np.std(ndata['data'], axis=0)\n",
    "    \n",
    "    return placeholder_data\n",
    "\n",
    "nrOfFiles = 40\n",
    "\n",
    "def create_dataset(folder, name_pickle):\n",
    "    #get files\n",
    "    files_preictal = glob.glob(folder + \"/*1.mat\")\n",
    "    files_interictal = glob.glob(folder + \"/*0.mat\")\n",
    "    #randomize read files\n",
    "    np.random.shuffle(files_preictal)\n",
    "    np.random.shuffle(files_interictal)\n",
    "    #read files into ndarrays\n",
    "    data_preictal = mat_to_numpy(files_preictal[:nrOfFiles])\n",
    "    labels_preictal = np.ones(data_preictal.shape[0], dtype=np.int32)\n",
    "    data_interictal = mat_to_numpy(files_interictal[:nrOfFiles])\n",
    "    labels_interictal = np.zeros(data_interictal.shape[0], dtype=np.int32)\n",
    "    #concatenate preictal and interictal data\n",
    "    print('Merging and shuffling data..')\n",
    "    data_merge = np.concatenate((data_preictal, data_interictal), axis=0)\n",
    "    labels_merge = np.concatenate((labels_preictal, labels_interictal), axis=0)\n",
    "    #shuffle data and labels mantaining relation between them\n",
    "    shuffle_idx = np.random.permutation(data_merge.shape[0])\n",
    "    data_merge = data_merge[shuffle_idx,:,:]\n",
    "    labels_merge = labels_merge[shuffle_idx]\n",
    "    #budle data and labels in dictionary\n",
    "    save = {'data': data_merge, 'labels': labels_merge}\n",
    "    try:\n",
    "        with open(name_pickle, 'wb') as f:\n",
    "            print('Pickling to ' + name_pickle)\n",
    "            pickle.dump(save, f, pickle.HIGHEST_PROTOCOL)\n",
    "    except Exception as e:\n",
    "        print('Unable to save data to' + name_pickle + ' :', e)\n",
    "    \n",
    "create_dataset('./train_1', 'trainsh1_norm.pickle')\n",
    "\n",
    "print('dataset done')"
   ]
  },
  {
   "cell_type": "markdown",
   "metadata": {},
   "source": [
    "Load pickled dataset into memory."
   ]
  },
  {
   "cell_type": "code",
   "execution_count": 12,
   "metadata": {
    "collapsed": false
   },
   "outputs": [
    {
     "name": "stdout",
     "output_type": "stream",
     "text": [
      "Unpickling trainsh1_norm.pickle\n",
      "Data loaded: shape (80, 240000, 16)\n"
     ]
    }
   ],
   "source": [
    "name_pickle = 'trainsh1_norm.pickle'\n",
    "\n",
    "with open(name_pickle, 'rb') as f:\n",
    "    print('Unpickling ' + name_pickle)\n",
    "    load = pickle.load(f)\n",
    "    dataset = load['data']\n",
    "    labels = load['labels']\n",
    "    del load\n",
    "    print('Data loaded: shape', dataset.shape)"
   ]
  },
  {
   "cell_type": "markdown",
   "metadata": {},
   "source": [
    "Plot some data to have an idea of how it looks like"
   ]
  },
  {
   "cell_type": "code",
   "execution_count": 13,
   "metadata": {
    "collapsed": false
   },
   "outputs": [
    {
     "data": {
      "text/plain": [
       "[<matplotlib.lines.Line2D at 0x7f9699873cd0>]"
      ]
     },
     "execution_count": 13,
     "metadata": {},
     "output_type": "execute_result"
    },
    {
     "data": {
      "image/png": "[encoded data removed]",
      "text/plain": [
       "<matplotlib.figure.Figure at 0x7f969b9f5310>"
      ]
     },
     "metadata": {},
     "output_type": "display_data"
    },
    {
     "data": {
      "image/png": "[encoded data removed]",
      "text/plain": [
       "<matplotlib.figure.Figure at 0x7f96997114d0>"
      ]
     },
     "metadata": {},
     "output_type": "display_data"
    },
    {
     "data": {
      "image/png": "[encoded data removed]",
      "text/plain": [
       "<matplotlib.figure.Figure at 0x7f969994ce90>"
      ]
     },
     "metadata": {},
     "output_type": "display_data"
    }
   ],
   "source": [
    "plt.subplot(211)\n",
    "plt.plot(dataset[0,:,0], 'r')\n",
    "plt.plot(dataset[0,:,8], 'g')\n",
    "\n",
    "plt.figure(2)\n",
    "plt.subplot(211)\n",
    "plt.plot(dataset[23,:,0])\n",
    "plt.plot(dataset[23,:,8])\n",
    "\n",
    "plt.figure(3)\n",
    "plt.subplot(211)\n",
    "plt.plot(dataset[57,:,9])\n",
    "plt.plot(dataset[57,:,5])"
   ]
  },
  {
   "cell_type": "markdown",
   "metadata": {},
   "source": [
    "EEGNET implementation\n",
    "\n",
    "Ideas\n",
    "  - Condition classification based on sensor?\n",
    "  \n",
    "Part of https://arxiv.org/pdf/1609.03499.pdf that most concerns classification:\n",
    "\"As a last experiment we looked at speech recognition with WaveNets on the TIMIT (Garofolo et al., 1993) dataset. For this task we added a mean-pooling layer after the dilated convolutions that aggregated the activations to coarser frames spanning 10 milliseconds (160 x downsampling). The pooling layer was followed by a few non-causal convolutions. We trained WaveNet with two loss terms, one to predict the next sample and one to classify the frame, the model generalized better than with a single loss and achieved 18.8 PER on the test set, which is to our knowledge the best score obtained from a model trained directly on raw audio on TIMIT.\""
   ]
  },
  {
   "cell_type": "code",
   "execution_count": 2,
   "metadata": {
    "collapsed": false
   },
   "outputs": [
    {
     "name": "stdout",
     "output_type": "stream",
     "text": [
      "done\n"
     ]
    }
   ],
   "source": [
    "class eegNet(object):\n",
    "    '''eegNet is based on WaveNet for generative audio.\n",
    "    '''\n",
    "\n",
    "    def __init__(self,\n",
    "                 batch_size,\n",
    "                 dilations,\n",
    "                 filter_width,\n",
    "                 input_channels,\n",
    "                 residual_channels,\n",
    "                 dilation_channels,\n",
    "                 skip_channels,\n",
    "                 fast_generation=False):\n",
    "        '''Initializes the WaveNet model.\n",
    "        Args:\n",
    "            batch_size: How many files are supplied per batch.\n",
    "            dilations: A list with the dilation factor for each layer.\n",
    "            filter_width: Samples in each convolution after dilating.\n",
    "            input_channels: How many filters to learn for the input.\n",
    "            residual_channels: How many filters to learn for the residual.\n",
    "            dilation_channels: How many filters to learn for the dilated convolution.\n",
    "            skip_channels: How many filters to learn for the softmax output.\n",
    "            fast_generation: Whether to use the fast generation architecture.\n",
    "        '''\n",
    "        self.batch_size = batch_size\n",
    "        self.dilations = dilations\n",
    "        self.filter_width = filter_width\n",
    "        self.input_channels = input_channels\n",
    "        self.residual_channels = residual_channels\n",
    "        self.dilation_channels = dilation_channels\n",
    "        self.skip_channels = skip_channels\n",
    "        self.fast_generation = fast_generation\n",
    "\n",
    "        if self.fast_generation:\n",
    "            raise NotImplementedError('Fast generation not yet implemented.')\n",
    "    \n",
    "    \n",
    "    def _create_weights_variable(name, shape):\n",
    "        initializer = tf.contrib.layers.xavier_initializer_conv2d()\n",
    "        return tf.Variable(initializer(shape=shape), name=name)\n",
    "\n",
    "\n",
    "    def _create_bias_variable(name, shape):\n",
    "        return tf.Variable(tf.zeros(shape=shape), name=name)\n",
    "    \n",
    "    \n",
    "    def _create_dilation_layer(self, batch_data, layer_index, dilation):\n",
    "        '''Creates a single causal dilated convolution layer.\n",
    "        The layer contains a gated filter that connects to dense output\n",
    "        and to a skip connection:\n",
    "               |-> [gate]   -|        |-> 1x1 conv -> skip output\n",
    "               |             |-> (*) -| \n",
    "        input -|-> [filter] -|        |-> 1x1 conv -|\n",
    "               |                                    |-> (+) -> dense output\n",
    "               |------------------------------------|\n",
    "        Where `[gate]` and `[filter]` are causal convolutions with a\n",
    "        non-linear activation at the output.\n",
    "        '''\n",
    "        #Filter part\n",
    "        weights_filter = create_weights_variable(\"weights_filter\", [1, self.filter_width, \n",
    "                                                                    self.residual_channels, \n",
    "                                                                    self.dilation_channels])\n",
    "        biases_filter = create_bias_variable(\"biases_filter\", [self.dilation_channels])\n",
    "        conv_filter = tf.nn.atrous_conv2d(batch_data, weights_filter, dilation, padding='SAME', name='filter')\n",
    "        conv_filter = tf.add(conv_filter, biases_filter)\n",
    "        conv_filter = tf.tanh(conv_filter) \n",
    "        \n",
    "        #Gated part\n",
    "        weights_gate = create_weights_variable(\"weights_gate\", [1, self.filter_width, \n",
    "                                                                self.residual_channels, \n",
    "                                                                self.dilation_channels])\n",
    "        biases_gate = create_bias_variable(\"biases_gate\", [self.dilation_channels])\n",
    "        conv_gate = tf.nn.atrous_conv2d(batch_data, weights_gate, dilation, padding='SAME', name='gate')\n",
    "        conv_gate = tf.add(conv_gate, biases_gate)\n",
    "        conv_gate = tf.sigmoid(conv_gate)\n",
    "        \n",
    "        # filter + gated output\n",
    "        out = tf.mul(conv_filter, conv_gate)\n",
    "\n",
    "        # The 1x1 conv to produce the dense contribution.\n",
    "        weights_dense = create_weights_variable(\"weights_dense\", [1, 1, \n",
    "                                                                  self.dilation_channels, \n",
    "                                                                  self.residual_channels])\n",
    "        biases_dense = create_bias_variable(\"biases_dense\", [in_channels])\n",
    "        conv_dense = tf.nn.conv2d(out, weights_dense, [1, 1, 1, 1], padding=\"SAME\", name=\"dense\")\n",
    "        conv_dense = tf.add(conv_dense, biases_dense)\n",
    "        # output to next layer\n",
    "        conv_dense = tf.add(conv_dense, batch_data)\n",
    "\n",
    "        # The 1x1 conv to produce the skip contribution.\n",
    "        weights_skip = create_weights_variable(\"weights_skip\", [1, 1, \n",
    "                                                                self.dilation_channels, \n",
    "                                                                self.skip_channels])\n",
    "        biases_skip = create_bias_variable(\"biases_skip\", [skip_channels])\n",
    "        conv_skip = tf.nn.conv2d(out, weights_skip, [1, 1, 1, 1], padding=\"SAME\", name=\"skip\")\n",
    "        # output to final decision softmax layer\n",
    "        conv_skip = tf.add(conv_skip, biases_skip)\n",
    "\n",
    "        layer = 'layer{}'.format(layer_index)\n",
    "        tf.histogram_summary(layer + '_weights_filter', weights_filter)\n",
    "        tf.histogram_summary(layer + '_weights_gate', weights_gate)\n",
    "        tf.histogram_summary(layer + '_weights_dense', weights_dense)\n",
    "        tf.histogram_summary(layer + '_weights_skip', weights_skip)\n",
    "        tf.histogram_summary(layer + '_biases_filter', biases_filter)\n",
    "        tf.histogram_summary(layer + '_biases_gate', biases_gate)\n",
    "        tf.histogram_summary(layer + '_biases_dense', biases_dense)\n",
    "        tf.histogram_summary(layer + '_biases_skip', biases_skip)\n",
    "\n",
    "        return conv_skip, conv_dense\n",
    "     \n",
    "        \n",
    "    def _create_network(self, batch_data):\n",
    "        outputs = []\n",
    "        current_layer = batch_data\n",
    "\n",
    "        # Process input with causal convolution layer\n",
    "        with tf.name_scope('causal_layer'):\n",
    "            weights_causal = create_weights_variable(\"weights_causal\", \n",
    "                                                     [1, self.filter_width, \n",
    "                                                      self.input_channels,\n",
    "                                                      self.residual_channels])\n",
    "            current_layer = tf.nn.conv2d(current_layer, weights_causal, [1, 1, 1, 1], padding='SAME')\n",
    "\n",
    "        # Add all defined dilation layers.\n",
    "        with tf.name_scope('dilated_stack'):\n",
    "            for layer_index, dilation in enumerate(self.dilations):\n",
    "                with tf.name_scope('layer{}'.format(layer_index)):\n",
    "                    output, current_layer = self._create_dilation_layer(\n",
    "                        current_layer, layer_index, dilation)\n",
    "                    outputs.append(output)\n",
    "\n",
    "        with tf.name_scope('output'):\n",
    "            # (+) -> ReLU -> 1x1 conv -> ReLU -> 1x1 conv -> Softmax -> Output\n",
    "            weights_out1 = create_variable(\"weights_out1\", [1, 1, \n",
    "                                                            self.skip_channels, \n",
    "                                                            self.skip_channels])\n",
    "            biases_out1 = create_bias_variable(\"biases_out1\", [self.skip_channels])\n",
    "            weights_out2 = create_variable(\"weights_out2\", [1, 1, \n",
    "                                                            self.skip_channels, 1])\n",
    "            biases_out2 = create_bias_variable(\"biases_out2\", [1])\n",
    "            \n",
    "            tf.histogram_summary('weights_out1', weights_out1)\n",
    "            tf.histogram_summary('weights_out2', weights_out2)\n",
    "            tf.histogram_summary('biases_out1', biases_out1)\n",
    "            tf.histogram_summary('biases_out2', biases_out2)\n",
    "\n",
    "            # Skip connections from each layer are all added here\n",
    "            out = tf.nn.relu(sum(outputs))\n",
    "            out = tf.nn.conv2d(out, weights_out1, [1, 1, 1, 1], padding=\"SAME\")\n",
    "            out = tf.add(out, biases_out1)\n",
    "            out = tf.nn.relu(out)\n",
    "            out = tf.nn.conv2d(out, weights_out2, [1, 1, 1, 1], padding=\"SAME\")\n",
    "            out = tf.add(out, biases_out2)\n",
    "    \n",
    "        return out\n",
    "\n",
    "    def loss(self, batch_data, batch_labels, name='eegnet'):\n",
    "        '''Creates a eegNet network and returns the loss.\n",
    "        The variables are all scoped to the given name.\n",
    "        '''\n",
    "        with tf.name_scope(name):\n",
    "            logits = self._create_network(batch_data)\n",
    "\n",
    "            with tf.name_scope('loss'):\n",
    "                loss = tf.nn.softmax_cross_entropy_with_logits(logits, batch_labels)\n",
    "                \n",
    "                # Optimizer.\n",
    "                  #optimizer = tf.train.GradientDescentOptimizer(0.5).minimize(loss)\n",
    "\n",
    "                tf.scalar_summary('loss', reduced_loss)\n",
    "\n",
    "        return loss\n",
    "\n",
    "net = eegNet(\n",
    "        batch_size=1,\n",
    "        dilations=[1, 2, 4, 8, 16, 32, 64, 128, 256, 1, 2, 4, 8, 16, 32, 64, 128, 256],\n",
    "        filter_width=2,\n",
    "        input_channels=16,\n",
    "        residual_channels=32,\n",
    "        dilation_channels=16,\n",
    "        skip_channels=256,\n",
    "        fast_generation=False)\n",
    "\n",
    "print('done')"
   ]
  },
  {
   "cell_type": "code",
   "execution_count": null,
   "metadata": {
    "collapsed": true
   },
   "outputs": [],
   "source": []
  }
 ],
 "metadata": {
  "kernelspec": {
   "display_name": "Python 2",
   "language": "python",
   "name": "python2"
  },
  "language_info": {
   "codemirror_mode": {
    "name": "ipython",
    "version": 2
   },
   "file_extension": ".py",
   "mimetype": "text/x-python",
   "name": "python",
   "nbconvert_exporter": "python",
   "pygments_lexer": "ipython2",
   "version": "2.7.6"
  }
 },
 "nbformat": 4,
 "nbformat_minor": 0
}
