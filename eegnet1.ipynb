{
 "cells": [
  {
   "cell_type": "code",
   "execution_count": 1,
   "metadata": {
    "collapsed": false
   },
   "outputs": [
    {
     "name": "stdout",
     "output_type": "stream",
     "text": [
      "import done\n"
     ]
    }
   ],
   "source": [
    "import numpy as np\n",
    "from scipy.io import loadmat\n",
    "import os\n",
    "import glob\n",
    "import re\n",
    "import sys\n",
    "from six.moves import cPickle as pickle\n",
    "\n",
    "print(\"import done\")"
   ]
  },
  {
   "cell_type": "code",
   "execution_count": 43,
   "metadata": {
    "collapsed": false
   },
   "outputs": [
    {
     "name": "stdout",
     "output_type": "stream",
     "text": [
      "[[0, 1, 2, 3, 4, 5, 6, 7, 8, 9], [10, 11, 12, 13, 14, 15, 16, 17, 18, 19], [20, 21, 22, 23, 24, 25, 26, 27, 28, 29], [30, 31, 32, 33, 34, 35, 36, 37, 38, 39], [40, 41, 42, 43, 44, 45, 46, 47, 48, 49], [50, 51, 52, 53, 54, 55, 56, 57, 58, 59], [60, 61, 62, 63, 64, 65, 66, 67, 68, 69], [70, 71, 72, 73, 74, 75, 76, 77, 78, 79], [80, 81, 82, 83, 84, 85, 86, 87, 88, 89], [90, 91, 92, 93, 94, 95, 96, 97, 98, 99], [100, 101, 102, 103, 104, 105, 106, 107, 108, 109], [110, 111, 112, 113, 114, 115, 116, 117, 118, 119], [120, 121, 122]]\n",
      "./train_1/1_1_1.mat\n",
      "train_1\n",
      "done\n"
     ]
    }
   ],
   "source": [
    "#get segment from 'patient_segment_result.mat' for file name ordering\n",
    "def natural_key(string_):\n",
    "    return [int(s) if s.isdigit() else s for s in re.split(r'(\\d+)', string_)]\n",
    "\n",
    "#convert .mat data into ndarray and compress it usingle pickle\n",
    "def pickle_data(files_pickle, name_pickle):\n",
    "    nrfiles = len(files_pickle)\n",
    "    placeholder_data = np.ndarray(shape=(nrfiles, 400*10*60, 16), dtype=np.float32)\n",
    "    placeholder_seq = np.ndarray(shape=(nrfiles), dtype=np.int32)\n",
    "    segment = 0\n",
    "    for fl in files_pickle:\n",
    "        #get segment from 'patient_segment_result.mat' for palceholder indexing (index start at 1)\n",
    "        segment = int(os.path.basename(fl)[:-4].split(\"_\")[1]) - 1\n",
    "        #open mat file\n",
    "        mat = loadmat(fl)\n",
    "        #convert from ndarray object to ndarray\n",
    "        names = mat['dataStruct'].dtype.names\n",
    "        ndata = {n: mat['dataStruct'][n][0, 0] for n in names}\n",
    "        #detect if columns out of order\n",
    "        if not all(x<y for x, y in zip(ndata['channelIndices'][0], ndata['channelIndices'][0][1:])):\n",
    "            print('WARNING: Columns out of order in file' + fl)\n",
    "        placeholder_data[segment, :, :] = ndata['data']\n",
    "        placeholder_seq[segment] = ndata['sequence']\n",
    "    #bundle data in a dictionary \n",
    "    placeholder = {\n",
    "        name_pickle + '_data': placeholder_data, \n",
    "        name_pickle + '_seq': placeholder_seq\n",
    "        }\n",
    "              \n",
    "    picklefile = name_pickle + '.pickle'\n",
    "    try:\n",
    "        with open(picklefile, 'wb') as f:\n",
    "            print('Pickling to ' + picklefile)\n",
    "            pickle.dump(placeholder, f, pickle.HIGHEST_PROTOCOL)\n",
    "    except Exception as e:\n",
    "        print('Unable to save data to' + picklefile + ' :', e)\n",
    "\n",
    "        \n",
    "def dataset_patient(folder_pat):\n",
    "    #seizure preictal data\n",
    "    files = sorted(glob.glob(folder_pat + \"/*1.mat\"), key=natural_key)\n",
    "    \n",
    "    nrsplits = len(files)/45;\n",
    "    #print([files[i:i + nrsplits] for i in xrange(0, len(files), nrsplits)])\n",
    "    data = range(0, 123)\n",
    "    nrsplits = 10\n",
    "    biglist = [data[i:i + nrsplits] for i in xrange(0, len(data), nrsplits)]\n",
    "    print(biglist)\n",
    "    \n",
    "    print(files[0])\n",
    "    print(files[0].split('/')[1])\n",
    "    \n",
    "dataset_patient('./train_1')\n",
    "\n",
    "print('done')"
   ]
  },
  {
   "cell_type": "code",
   "execution_count": 20,
   "metadata": {
    "collapsed": false
   },
   "outputs": [
    {
     "name": "stdout",
     "output_type": "stream",
     "text": [
      "(37, 240000, 16)\n"
     ]
    }
   ],
   "source": [
    "with open('train_1.pickle', 'rb') as f:\n",
    "    data = pickle.load(f)\n",
    "    print(data['train_1_data_1'].shape)"
   ]
  },
  {
   "cell_type": "code",
   "execution_count": 28,
   "metadata": {
    "collapsed": false
   },
   "outputs": [
    {
     "name": "stdout",
     "output_type": "stream",
     "text": [
      "[[1 1]\n",
      " [2 2]\n",
      " [1 2]]\n",
      "[1 1]\n"
     ]
    }
   ],
   "source": [
    "x = np.array([[1, 1], [2, 2], [1,2]])\n",
    "\n",
    "print(x)\n",
    "\n",
    "print(x[0])"
   ]
  },
  {
   "cell_type": "code",
   "execution_count": null,
   "metadata": {
    "collapsed": true
   },
   "outputs": [],
   "source": []
  }
 ],
 "metadata": {
  "kernelspec": {
   "display_name": "Python 2",
   "language": "python",
   "name": "python2"
  },
  "language_info": {
   "codemirror_mode": {
    "name": "ipython",
    "version": 2
   },
   "file_extension": ".py",
   "mimetype": "text/x-python",
   "name": "python",
   "nbconvert_exporter": "python",
   "pygments_lexer": "ipython2",
   "version": "2.7.6"
  }
 },
 "nbformat": 4,
 "nbformat_minor": 0
}
