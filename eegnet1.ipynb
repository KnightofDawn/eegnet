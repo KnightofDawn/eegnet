{
 "cells": [
  {
   "cell_type": "code",
   "execution_count": 29,
   "metadata": {
    "collapsed": false
   },
   "outputs": [
    {
     "name": "stdout",
     "output_type": "stream",
     "text": [
      "import done\n"
     ]
    }
   ],
   "source": [
    "import numpy as np\n",
    "from scipy.io import loadmat\n",
    "import os\n",
    "import glob\n",
    "import re\n",
    "import sys\n",
    "from six.moves import cPickle as pickle\n",
    "\n",
    "print(\"import done\")"
   ]
  },
  {
   "cell_type": "code",
   "execution_count": 67,
   "metadata": {
    "collapsed": false
   },
   "outputs": [
    {
     "name": "stdout",
     "output_type": "stream",
     "text": [
      "[[[ 19.37265396  -1.63778603]\n",
      "  [ 23.37265396  -4.63778591]]\n",
      "\n",
      " [[-36.38835144   5.95662212]\n",
      "  [-33.38835144  -1.04337788]]\n",
      "\n",
      " [[ 21.97092438  12.75170517]\n",
      "  [ 28.97092438   4.75170565]]\n",
      "\n",
      " [[  8.58492279  11.79246521]\n",
      "  [ 12.58492279   3.79246545]]\n",
      "\n",
      " [[  0.54836392   4.35475588]\n",
      "  [ -1.45163608   7.35475588]]]\n",
      "done\n"
     ]
    }
   ],
   "source": [
    "def natural_key(string_):\n",
    "    return [int(s) if s.isdigit() else s for s in re.split(r'(\\d+)', string_)]\n",
    "    \n",
    "def dataset_patient(folder_pat):\n",
    "    #seizure preictal data\n",
    "    files = sorted(glob.glob(folder_pat + \"/*1.mat\"), key=natural_key)\n",
    "    holder_data = np.ndarray(shape=(len(files)/4, 400*10*60, 16), dtype=np.float32)\n",
    "    holder_sequence = np.ndarray(shape=(len(files)), dtype=np.float32)\n",
    "    \n",
    "    sequence = 0\n",
    "    for idx, fl in enumerate(files[:len(files)/4]):\n",
    "        #get sequence from 'patient_sequence_result.mat'\n",
    "        sequence = os.path.basename(fl)[:-4].split(\"_\")[1]\n",
    "        #open mat file\n",
    "        mat = loadmat(fl)\n",
    "        #convert from ndarray object to ndarray\n",
    "        names = mat['dataStruct'].dtype.names\n",
    "        ndata = {n: mat['dataStruct'][n][0, 0] for n in names}\n",
    "        #detect if columns out of order\n",
    "        if not all(x<y for x, y in zip(ndata['channelIndices'][0], ndata['channelIndices'][0][1:])):\n",
    "            print('WARNING: Columns out of order in file' + fl)\n",
    "        \n",
    "        holder_data[idx, :, :] = ndata['data']\n",
    "        holder_sequence[idx] = ndata['sequence']\n",
    "      \n",
    "    print('pickling...')\n",
    "    try:\n",
    "        with open('train1.pickle', 'wb') as f:\n",
    "            pickle.dump(holder_data, f, pickle.HIGHEST_PROTOCOL)\n",
    "    except Exception as e:\n",
    "        print('Unable to save data to:', e)\n",
    "    \n",
    "    with open('train1.pickle', 'rb') as f:\n",
    "        save = pickle.load(f)\n",
    "        print(save[0:5,0:2,0:2])\n",
    "    \n",
    "dataset_patient(\"./train_1\")\n",
    "\n",
    "print('done')"
   ]
  },
  {
   "cell_type": "code",
   "execution_count": null,
   "metadata": {
    "collapsed": true
   },
   "outputs": [],
   "source": []
  }
 ],
 "metadata": {
  "kernelspec": {
   "display_name": "Python 2",
   "language": "python",
   "name": "python2"
  },
  "language_info": {
   "codemirror_mode": {
    "name": "ipython",
    "version": 2
   },
   "file_extension": ".py",
   "mimetype": "text/x-python",
   "name": "python",
   "nbconvert_exporter": "python",
   "pygments_lexer": "ipython2",
   "version": "2.7.6"
  }
 },
 "nbformat": 4,
 "nbformat_minor": 0
}
