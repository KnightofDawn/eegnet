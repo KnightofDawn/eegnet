{
 "cells": [
  {
   "cell_type": "code",
   "execution_count": 31,
   "metadata": {
    "collapsed": false
   },
   "outputs": [
    {
     "name": "stdout",
     "output_type": "stream",
     "text": [
      "import done\n"
     ]
    }
   ],
   "source": [
    "import numpy as np\n",
    "from scipy.io import loadmat\n",
    "import os\n",
    "import glob\n",
    "import re\n",
    "from six.moves import cPickle as pickle\n",
    "\n",
    "print(\"import done\")"
   ]
  },
  {
   "cell_type": "code",
   "execution_count": null,
   "metadata": {
    "collapsed": false
   },
   "outputs": [],
   "source": [
    "#get segment from 'patient_segment_result.mat' for file name ordering\n",
    "def natural_key(string_):\n",
    "    return [int(s) if s.isdigit() else s for s in re.split(r'(\\d+)', string_)]\n",
    "\n",
    "#convert .mat data into ndarray and compress it usingle pickle\n",
    "def pickle_data(files_pickle, name_pickle):\n",
    "    print('Reading file ' + files_pickle[0] + ' to ' + files_pickle[-1])\n",
    "    nrfiles = len(files_pickle)\n",
    "    placeholder_data = np.ndarray(shape=(nrfiles, 400*10*60, 16), dtype=np.float32)\n",
    "    placeholder_seq = np.ndarray(shape=(nrfiles), dtype=np.int32)\n",
    "    for idx, fl in enumerate(files_pickle):\n",
    "        #open mat file\n",
    "        mat = loadmat(fl)\n",
    "        #convert from ndarray object to ndarray\n",
    "        names = mat['dataStruct'].dtype.names\n",
    "        ndata = {n: mat['dataStruct'][n][0, 0] for n in names}\n",
    "        #detect if columns out of order\n",
    "        if not all(x<y for x, y in zip(ndata['channelIndices'][0], ndata['channelIndices'][0][1:])):\n",
    "            print('WARNING: Columns out of order in file' + fl)\n",
    "        placeholder_data[idx, :, :] = ndata['data']\n",
    "        placeholder_seq[idx] = ndata['sequence']\n",
    "    #bundle data in a dictionary \n",
    "    placeholder = {'data': placeholder_data, 'seq': placeholder_seq}\n",
    "    \n",
    "    try:\n",
    "        with open(name_pickle, 'wb') as f:\n",
    "            print('Pickling to ' + name_pickle)\n",
    "            pickle.dump(placeholder, f, pickle.HIGHEST_PROTOCOL)\n",
    "    except Exception as e:\n",
    "        print('Unable to save data to' + name_pickle + ' :', e)\n",
    "\n",
    "nrfiles_pickle = 45\n",
    "        \n",
    "def dataset_patient(folder_pat, result):\n",
    "    #get files\n",
    "    files = sorted(glob.glob(folder_pat + \"/*\" + result + \".mat\"), key=natural_key)\n",
    "    files = [files[i:i + nrfiles_pickle] for i in xrange(0, len(files), nrfiles_pickle)]\n",
    "    #concatenate remainder if size too small\n",
    "    if (len(files[-1]) < 4):\n",
    "        files[-2].extend(files[-1])\n",
    "        del files[-1]\n",
    "    #create pickle files\n",
    "    for idx, fl in enumerate(files):\n",
    "        picklefile = folder_pat.split('/')[1] + '_res' + result + '_idx' + str(idx) + '.pickle'\n",
    "        if (os.path.exists(picklefile)):\n",
    "            print(picklefile + '  already present. Skip pickling.')\n",
    "        else:\n",
    "            pickle_data(fl, picklefile)\n",
    "    \n",
    "dataset_patient('./train_1', '1')\n",
    "\n",
    "print('done')"
   ]
  },
  {
   "cell_type": "code",
   "execution_count": 54,
   "metadata": {
    "collapsed": false
   },
   "outputs": [
    {
     "name": "stdout",
     "output_type": "stream",
     "text": [
      "Reading files ./train_1/1_130_1.mat to ./train_1/1_50_1.mat\n",
      "Reading files ./train_1/1_300_0.mat to ./train_1/1_667_0.mat\n",
      "[0 2 4 7 6 5 8 1 3 9]\n",
      "done\n"
     ]
    }
   ],
   "source": [
    "#convert .mat data into ndarray and compress it usingle pickle\n",
    "def mat_to_numpy(files):\n",
    "    print('Reading files ' + files[0] + ' to ' + files[-1])\n",
    "    nrfiles = len(files)\n",
    "    placeholder_data = np.ndarray(shape=(nrfiles, 400*10*60, 16), dtype=np.float32)\n",
    "    for idx, fl in enumerate(files):\n",
    "        #open mat file\n",
    "        mat = loadmat(fl)\n",
    "        #convert from ndarray object to ndarray\n",
    "        names = mat['dataStruct'].dtype.names\n",
    "        ndata = {n: mat['dataStruct'][n][0, 0] for n in names}\n",
    "        #detect if columns out of order\n",
    "        if not all(x<y for x, y in zip(ndata['channelIndices'][0], ndata['channelIndices'][0][1:])):\n",
    "            print('WARNING: Columns out of order in file' + fl)\n",
    "        placeholder_data[idx, :, :] = ndata['data']\n",
    "    \n",
    "    return placeholder_data\n",
    "    \n",
    "\n",
    "def create_dataset(folder_pat):\n",
    "    #get files\n",
    "    files_preictal = glob.glob(folder_pat + \"/*1.mat\")\n",
    "    files_interictal = glob.glob(folder_pat + \"/*0.mat\")\n",
    "    #randomize read files\n",
    "    np.random.shuffle(files_preictal)\n",
    "    np.random.shuffle(files_interictal)\n",
    "\n",
    "    #read files into ndarrays\n",
    "    data_preictal = mat_to_numpy(files_preictal[:5])\n",
    "    labels_preictal = np.ones(data_preictal.shape[0], dtype=np.int32)\n",
    "    data_interictal = mat_to_numpy(files_interictal[:5])\n",
    "    labels_interictal = np.ones(data_interictal.shape[0], dtype=np.int32)\n",
    "    \n",
    "    data_merge = np.concatenate((data_preictal, data_interictal), axis=0)\n",
    "    labels_merge = np.concatenate((labels_preictal, labels_interictal), axis=0)\n",
    "    \n",
    "    shuffle_idx = np.array(range(data_merge.shape[0]), dtype=np.int32)\n",
    "    np.random.shuffle(shuffle_idx)\n",
    "    \n",
    "    data_merge = data_merge[shuffle_idx, :, :]\n",
    "    \n",
    "    print(shuffle_idx)\n",
    "    \n",
    "    \n",
    "#     try:\n",
    "#         with open(name_pickle, 'wb') as f:\n",
    "#             print('Pickling to ' + name_pickle)\n",
    "#             pickle.dump(placeholder, f, pickle.HIGHEST_PROTOCOL)\n",
    "#     except Exception as e:\n",
    "#         print('Unable to save data to' + name_pickle + ' :', e)\n",
    "    \n",
    "create_dataset('./train_1')\n",
    "\n",
    "\n",
    "\n",
    "print('done')"
   ]
  },
  {
   "cell_type": "code",
   "execution_count": 47,
   "metadata": {
    "collapsed": false
   },
   "outputs": [
    {
     "name": "stdout",
     "output_type": "stream",
     "text": [
      "[0, 1, 2, 3, 4, 5, 6, 7, 8, 9]\n"
     ]
    }
   ],
   "source": [
    "print(range(10))"
   ]
  },
  {
   "cell_type": "code",
   "execution_count": 20,
   "metadata": {
    "collapsed": false
   },
   "outputs": [
    {
     "name": "stdout",
     "output_type": "stream",
     "text": [
      "(37, 240000, 16)\n"
     ]
    }
   ],
   "source": [
    "with open('train_1_res1_idx0.pickle', 'rb') as f:\n",
    "    data = pickle.load(f)\n",
    "    print(data['data'].shape)\n",
    "    print(data['seq'].shape)"
   ]
  },
  {
   "cell_type": "code",
   "execution_count": null,
   "metadata": {
    "collapsed": true
   },
   "outputs": [],
   "source": []
  }
 ],
 "metadata": {
  "kernelspec": {
   "display_name": "Python 2",
   "language": "python",
   "name": "python2"
  },
  "language_info": {
   "codemirror_mode": {
    "name": "ipython",
    "version": 2
   },
   "file_extension": ".py",
   "mimetype": "text/x-python",
   "name": "python",
   "nbconvert_exporter": "python",
   "pygments_lexer": "ipython2",
   "version": "2.7.6"
  }
 },
 "nbformat": 4,
 "nbformat_minor": 0
}
