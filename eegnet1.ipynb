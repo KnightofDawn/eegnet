{
 "cells": [
  {
   "cell_type": "code",
   "execution_count": 1,
   "metadata": {
    "collapsed": false
   },
   "outputs": [
    {
     "name": "stdout",
     "output_type": "stream",
     "text": [
      "import done\n"
     ]
    }
   ],
   "source": [
    "from __future__ import print_function\n",
    "import numpy as np\n",
    "from scipy.io import loadmat\n",
    "import os\n",
    "import glob\n",
    "from six.moves import cPickle as pickle\n",
    "\n",
    "print(\"import done\")"
   ]
  },
  {
   "cell_type": "code",
   "execution_count": 12,
   "metadata": {
    "collapsed": false
   },
   "outputs": [
    {
     "name": "stdout",
     "output_type": "stream",
     "text": [
      "Reading files ./train_1/1_28_1.mat to ./train_1/1_8_1.mat\n",
      "Reading files ./train_1/1_882_0.mat to ./train_1/1_470_0.mat\n",
      "Pickling to trainsh3.pickle\n",
      "done\n"
     ]
    }
   ],
   "source": [
    "#convert .mat data into ndarray and compress it usingle pickle\n",
    "def mat_to_numpy(files):\n",
    "    print('Reading files ' + files[0] + ' to ' + files[-1])\n",
    "    nrfiles = len(files)\n",
    "    placeholder_data = np.ndarray(shape=(nrfiles, 400*10*60, 16), dtype=np.float32)\n",
    "    for idx, fl in enumerate(files):\n",
    "        #open mat file\n",
    "        mat = loadmat(fl)\n",
    "        #convert from ndarray object to ndarray\n",
    "        names = mat['dataStruct'].dtype.names\n",
    "        ndata = {n: mat['dataStruct'][n][0, 0] for n in names}\n",
    "        #detect if columns out of order\n",
    "        if not all(x<y for x, y in zip(ndata['channelIndices'][0], ndata['channelIndices'][0][1:])):\n",
    "            print('WARNING: Columns out of order in file' + fl)\n",
    "        placeholder_data[idx, :, :] = ndata['data']\n",
    "    \n",
    "    return placeholder_data\n",
    "\n",
    "nrOfFiles = 30\n",
    "\n",
    "def create_dataset(folder, name_pickle):\n",
    "    #get files\n",
    "    files_preictal = glob.glob(folder + \"/*1.mat\")\n",
    "    files_interictal = glob.glob(folder + \"/*0.mat\")\n",
    "    #randomize read files\n",
    "    np.random.shuffle(files_preictal)\n",
    "    np.random.shuffle(files_interictal)\n",
    "    #read files into ndarrays\n",
    "    data_preictal = mat_to_numpy(files_preictal[:nrOfFiles])\n",
    "    labels_preictal = np.ones(data_preictal.shape[0], dtype=np.int32)\n",
    "    data_interictal = mat_to_numpy(files_interictal[:nrOfFiles])\n",
    "    labels_interictal = np.zeros(data_interictal.shape[0], dtype=np.int32)\n",
    "    #concatenate preictal and interictal data\n",
    "    data_merge = np.concatenate((data_preictal, data_interictal), axis=0)\n",
    "    labels_merge = np.concatenate((labels_preictal, labels_interictal), axis=0)\n",
    "    #shuffle data and labels mantaining relation between them\n",
    "    shuffle_idx = np.random.permutation(data_merge.shape[0])\n",
    "    data_merge = data_merge[shuffle_idx]\n",
    "    labels_merge = labels_merge[shuffle_idx]\n",
    "    #budle data and labels in dictionary\n",
    "    save = {'data': data_merge, 'labels': labels_merge}\n",
    "    try:\n",
    "        with open(name_pickle, 'wb') as f:\n",
    "            print('Pickling to ' + name_pickle)\n",
    "            pickle.dump(save, f, pickle.HIGHEST_PROTOCOL)\n",
    "    except Exception as e:\n",
    "        print('Unable to save data to' + name_pickle + ' :', e)\n",
    "    \n",
    "create_dataset('./train_1', 'trainsh3.pickle')\n",
    "\n",
    "print('done')"
   ]
  },
  {
   "cell_type": "code",
   "execution_count": 2,
   "metadata": {
    "collapsed": false
   },
   "outputs": [
    {
     "name": "stdout",
     "output_type": "stream",
     "text": [
      "Unpickling trainsh1.pickle\n",
      "Data loaded shape: (60, 240000, 16)\n"
     ]
    }
   ],
   "source": [
    "name_pickle = 'trainsh1.pickle'\n",
    "\n",
    "with open(name_pickle, 'rb') as f:\n",
    "    print('Unpickling ' + name_pickle)\n",
    "    load = pickle.load(f)\n",
    "    dataset = load['data']\n",
    "    labels = load['labels']\n",
    "    del load\n",
    "    print('Data loaded shape:', dataset.shape)"
   ]
  },
  {
   "cell_type": "code",
   "execution_count": null,
   "metadata": {
    "collapsed": true
   },
   "outputs": [],
   "source": [
    "#plot some data"
   ]
  },
  {
   "cell_type": "code",
   "execution_count": null,
   "metadata": {
    "collapsed": true
   },
   "outputs": [],
   "source": [
    "#eegnet"
   ]
  }
 ],
 "metadata": {
  "kernelspec": {
   "display_name": "Python 2",
   "language": "python",
   "name": "python2"
  },
  "language_info": {
   "codemirror_mode": {
    "name": "ipython",
    "version": 2
   },
   "file_extension": ".py",
   "mimetype": "text/x-python",
   "name": "python",
   "nbconvert_exporter": "python",
   "pygments_lexer": "ipython2",
   "version": "2.7.6"
  }
 },
 "nbformat": 4,
 "nbformat_minor": 0
}
