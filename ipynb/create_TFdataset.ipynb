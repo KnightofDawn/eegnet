{
 "cells": [
  {
   "cell_type": "code",
   "execution_count": 1,
   "metadata": {
    "collapsed": false
   },
   "outputs": [
    {
     "name": "stdout",
     "output_type": "stream",
     "text": [
      "import done\n"
     ]
    }
   ],
   "source": [
    "import numpy as np\n",
    "from scipy.io import loadmat\n",
    "import tensorflow as tf\n",
    "import glob\n",
    "import time\n",
    "import matplotlib.pyplot as plt\n",
    "%matplotlib inline\n",
    "\n",
    "print(\"import done\")"
   ]
  },
  {
   "cell_type": "code",
   "execution_count": 49,
   "metadata": {
    "collapsed": false,
    "scrolled": true
   },
   "outputs": [
    {
     "name": "stdout",
     "output_type": "stream",
     "text": [
      "Converting #10 files.\n",
      "Converting ./data/train_3/3_40_1.mat ----> ./dataset/3_40_1.tfr\n",
      "elapsed: 3.026s\n",
      "Converting ./data/train_3/3_121_1.mat ----> ./dataset/3_121_1.tfr\n",
      "elapsed: 2.900s\n",
      "Converting ./data/train_3/3_116_1.mat ----> ./dataset/3_116_1.tfr\n",
      "elapsed: 2.689s\n",
      "Converting ./data/train_3/3_131_1.mat ----> ./dataset/3_131_1.tfr\n",
      "elapsed: 2.693s\n",
      "Converting ./data/train_3/3_58_1.mat ----> ./dataset/3_58_1.tfr\n",
      "elapsed: 2.647s\n",
      "Converting ./data/train_3/3_3_1.mat ----> ./dataset/3_3_1.tfr\n",
      "elapsed: 2.689s\n",
      "Converting ./data/train_3/3_32_1.mat ----> ./dataset/3_32_1.tfr\n",
      "elapsed: 2.682s\n",
      "Converting ./data/train_3/3_137_1.mat ----> ./dataset/3_137_1.tfr\n",
      "elapsed: 2.651s\n",
      "Converting ./data/train_3/3_46_1.mat ----> ./dataset/3_46_1.tfr\n",
      "elapsed: 2.666s\n",
      "Converting ./data/train_3/3_70_1.mat ----> ./dataset/3_70_1.tfr\n",
      "elapsed: 2.693s\n",
      "finished\n"
     ]
    }
   ],
   "source": [
    "def mat2tfr(p_file):\n",
    "    # converting mat file as numpy\n",
    "    mat = loadmat(p_file)\n",
    "    data = mat['dataStruct']['data'][0][0]\n",
    "    # getting the filename and retrieving the patient, segement and label data\n",
    "    pat, seg, label = p_file.split('/')[-1].split('.')[0].split(\"_\")\n",
    "    dstfilename = \"./dataset/\" + pat + \"_\" + seg + \"_\" + label + \".tfr\"\n",
    "    print(\"Converting \" + p_file + \" ----> \" + dstfilename)\n",
    "    # TensorFlow Records writer\n",
    "    with tf.python_io.TFRecordWriter(dstfilename) as tfrwriter:\n",
    "        # Fill protobuff\n",
    "        protobuf = tf.train.Example(features=tf.train.Features(feature={\n",
    "                    'data' : tf.train.Feature(float_list=tf.train.FloatList(value=data.flatten().tolist())), \n",
    "                    'label': tf.train.Feature(int64_list=tf.train.Int64List(value=[int(label)])), \n",
    "                }))\n",
    "        write = tfrwriter.write(protobuf.SerializeToString())\n",
    "        \n",
    "        \n",
    "def dataset(folder, num_files=None):\n",
    "    # get files\n",
    "    filenames = glob.glob(folder + \"/*1.mat\")\n",
    "    # randomize read files\n",
    "    np.random.shuffle(filenames)\n",
    "    # truncate reading\n",
    "    if num_files is not None:\n",
    "        filenames = filenames[:num_files]\n",
    "    print(\"Converting #%d files.\"%len(filenames))\n",
    "    \n",
    "    for files in filenames:\n",
    "        t = time.time()\n",
    "        mat2tfr(files)\n",
    "        elapsed = time.time() - t\n",
    "        print(\"elapsed: %.3fs\"%elapsed)        \n",
    "        \n",
    "dataset(\"./data/train_3\", 10)\n",
    "\n",
    "print('finished')        "
   ]
  },
  {
   "cell_type": "code",
   "execution_count": 90,
   "metadata": {
    "collapsed": false
   },
   "outputs": [
    {
     "name": "stdout",
     "output_type": "stream",
     "text": [
      "Loading #20 files.\n",
      "((8, 2400, 16), (8, 2))\n",
      "[ 4299.83642578  1075.15820312  1465.13842773  3586.09326172  2526.08447266\n",
      "  3635.19360352  1207.40075684  1794.80554199]\n",
      "((8, 2400, 16), (8, 2))\n",
      "[ 2272.60229492  3196.44238281  3242.44946289  4264.23828125  1604.73095703\n",
      "  3269.10717773  2624.44750977  3160.12890625]\n",
      "((8, 2400, 16), (8, 2))\n",
      "[ 1348.60388184  1553.0970459   1224.58764648  2488.91552734  1563.36645508\n",
      "  2760.24243164  5094.52294922  5588.71289062]\n",
      "((8, 2400, 16), (8, 2))\n",
      "[ 6174.93505859  1880.13635254  1577.26269531  1872.98999023  1629.27124023\n",
      "  1372.38769531  2908.1965332   5466.98388672]\n",
      "((8, 2400, 16), (8, 2))\n",
      "[ 1776.24829102  1904.90185547  1457.45373535  1528.82873535  3815.08642578\n",
      "  3056.20263672  4095.33422852  2270.77758789]\n",
      "done\n"
     ]
    }
   ],
   "source": [
    "slim = tf.contrib.slim\n",
    "\n",
    "_SAMPLE_POINTS = 240000\n",
    "_CHANNELS = 16\n",
    "_NUM_LABELS = 2\n",
    "_BATCH_SIZE = 8\n",
    "\n",
    "def read_dataset(folder):\n",
    "    with tf.Graph().as_default():\n",
    "        filenames = glob.glob(folder)\n",
    "        print(\"Loading #%d files.\"%len(filenames))\n",
    "\n",
    "        reader = tf.TFRecordReader\n",
    "\n",
    "        keys_to_features = {\n",
    "            'data': tf.FixedLenFeature([_SAMPLE_POINTS*_CHANNELS], tf.float32),\n",
    "            'label': tf.FixedLenFeature([], tf.int64),\n",
    "        }\n",
    "        items_to_handlers = {\n",
    "            'data': slim.tfexample_decoder.Tensor('data'),\n",
    "            'label': slim.tfexample_decoder.Tensor('label'),      \n",
    "        }    \n",
    "        decoder = slim.tfexample_decoder.TFExampleDecoder(\n",
    "            keys_to_features, items_to_handlers)\n",
    "\n",
    "        items_to_descriptions = {\n",
    "            'data': '240000 sample points of iEEG.',\n",
    "            'label': 'Label 0 indicates interictal and 1 preictal.', \n",
    "        }\n",
    "\n",
    "        dataset = slim.dataset.Dataset(\n",
    "            data_sources=filenames, \n",
    "            reader=reader, \n",
    "            decoder=decoder, \n",
    "            num_samples=1, \n",
    "            items_to_descriptions=items_to_descriptions)\n",
    "\n",
    "        data_provider = slim.dataset_data_provider.DatasetDataProvider(\n",
    "            dataset, shuffle=True, num_epochs=None, common_queue_capacity=16, common_queue_min=1)\n",
    "\n",
    "        data, label = data_provider.get(['data', 'label'])\n",
    "        \n",
    "        # Preprocess data\n",
    "        data = tf.reshape(data, shape=[_SAMPLE_POINTS, _CHANNELS])\n",
    "        data = tf.pack(tf.split(0, 100, data), axis=0)\n",
    "        label = tf.one_hot(label, _NUM_LABELS, dtype=tf.int32)\n",
    "        label = tf.reshape(tf.tile(label, [100]), shape=[100, _NUM_LABELS])\n",
    "        \n",
    "        # Remove dropout segments\n",
    "        _, var = tf.nn.moments(data, axes=[1, 2])\n",
    "\n",
    "        # Batch it up.\n",
    "        data, label, var = tf.train.shuffle_batch([data, label, var], \n",
    "                                             batch_size=_BATCH_SIZE, \n",
    "                                             num_threads=1, \n",
    "                                             capacity=20*_BATCH_SIZE, \n",
    "                                             min_after_dequeue=6*_BATCH_SIZE, \n",
    "                                             enqueue_many=True)\n",
    "\n",
    "        with tf.Session() as sess:    \n",
    "            with slim.queues.QueueRunners(sess):\n",
    "                for i in xrange(5): \n",
    "                    dt, lbl, std = sess.run([data, label, var])\n",
    "                    print(dt.shape[:], lbl.shape[:])\n",
    "                    print(std)\n",
    "\n",
    "read_dataset('./dataset/*.tfr')\n",
    "    \n",
    "print('done')\n",
    "    "
   ]
  },
  {
   "cell_type": "code",
   "execution_count": 58,
   "metadata": {
    "collapsed": true
   },
   "outputs": [],
   "source": [
    "def plot_eeg(data):\n",
    "    plt.figure(figsize=(10,20))\n",
    "    for i in range(0,16):\n",
    "        plt.subplot(8,2,i+1)\n",
    "        plt.plot(data[:,i])\n",
    "    \n",
    "    #plt.savefig('foo.pdf', bbox_inches='tight')"
   ]
  },
  {
   "cell_type": "code",
   "execution_count": null,
   "metadata": {
    "collapsed": true
   },
   "outputs": [],
   "source": []
  }
 ],
 "metadata": {
  "kernelspec": {
   "display_name": "Python 2",
   "language": "python",
   "name": "python2"
  },
  "language_info": {
   "codemirror_mode": {
    "name": "ipython",
    "version": 2
   },
   "file_extension": ".py",
   "mimetype": "text/x-python",
   "name": "python",
   "nbconvert_exporter": "python",
   "pygments_lexer": "ipython2",
   "version": "2.7.6"
  }
 },
 "nbformat": 4,
 "nbformat_minor": 0
}
