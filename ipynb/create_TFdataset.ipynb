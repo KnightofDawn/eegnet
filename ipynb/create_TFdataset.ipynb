{
 "cells": [
  {
   "cell_type": "code",
   "execution_count": 53,
   "metadata": {
    "collapsed": false
   },
   "outputs": [
    {
     "name": "stdout",
     "output_type": "stream",
     "text": [
      "import done\n"
     ]
    }
   ],
   "source": [
    "import numpy as np\n",
    "from scipy.io import loadmat\n",
    "import tensorflow as tf\n",
    "import glob\n",
    "import time\n",
    "import matplotlib.pyplot as plt\n",
    "%matplotlib inline\n",
    "\n",
    "print(\"import done\")"
   ]
  },
  {
   "cell_type": "code",
   "execution_count": 30,
   "metadata": {
    "collapsed": false,
    "scrolled": true
   },
   "outputs": [
    {
     "name": "stdout",
     "output_type": "stream",
     "text": [
      "Converting #30 files.\n",
      "Converting ./data/train_3/3_1940_0.mat ----> ./dataset/3_1940_0.tfr\n",
      "elapsed: 2.990s\n",
      "Converting ./data/train_3/3_1160_0.mat ----> ./dataset/3_1160_0.tfr\n",
      "elapsed: 2.669s\n",
      "Converting ./data/train_3/3_696_0.mat ----> ./dataset/3_696_0.tfr\n",
      "elapsed: 2.668s\n",
      "Converting ./data/train_3/3_131_1.mat ----> ./dataset/3_131_1.tfr\n",
      "elapsed: 2.672s\n",
      "Converting ./data/train_3/3_1227_0.mat ----> ./dataset/3_1227_0.tfr\n",
      "elapsed: 2.663s\n",
      "Converting ./data/train_3/3_1811_0.mat ----> ./dataset/3_1811_0.tfr\n",
      "elapsed: 2.808s\n",
      "Converting ./data/train_3/3_419_0.mat ----> ./dataset/3_419_0.tfr\n",
      "elapsed: 2.710s\n",
      "Converting ./data/train_3/3_1750_0.mat ----> ./dataset/3_1750_0.tfr\n",
      "elapsed: 2.738s\n",
      "Converting ./data/train_3/3_353_0.mat ----> ./dataset/3_353_0.tfr\n",
      "elapsed: 2.739s\n",
      "Converting ./data/train_3/3_1110_0.mat ----> ./dataset/3_1110_0.tfr\n",
      "elapsed: 2.725s\n",
      "Converting ./data/train_3/3_734_0.mat ----> ./dataset/3_734_0.tfr\n",
      "elapsed: 2.782s\n",
      "Converting ./data/train_3/3_1104_0.mat ----> ./dataset/3_1104_0.tfr\n",
      "elapsed: 2.699s\n",
      "Converting ./data/train_3/3_1322_0.mat ----> ./dataset/3_1322_0.tfr\n",
      "elapsed: 2.760s\n",
      "Converting ./data/train_3/3_1514_0.mat ----> ./dataset/3_1514_0.tfr\n",
      "elapsed: 2.798s\n",
      "Converting ./data/train_3/3_77_1.mat ----> ./dataset/3_77_1.tfr\n",
      "elapsed: 2.759s\n",
      "Converting ./data/train_3/3_1613_0.mat ----> ./dataset/3_1613_0.tfr\n",
      "elapsed: 2.783s\n",
      "Converting ./data/train_3/3_1535_0.mat ----> ./dataset/3_1535_0.tfr\n",
      "elapsed: 2.742s\n",
      "Converting ./data/train_3/3_1887_0.mat ----> ./dataset/3_1887_0.tfr\n",
      "elapsed: 3.115s\n",
      "Converting ./data/train_3/3_1031_0.mat ----> ./dataset/3_1031_0.tfr\n",
      "elapsed: 2.730s\n",
      "Converting ./data/train_3/3_271_0.mat ----> ./dataset/3_271_0.tfr\n",
      "elapsed: 2.732s\n",
      "Converting ./data/train_3/3_2121_0.mat ----> ./dataset/3_2121_0.tfr\n",
      "elapsed: 2.879s\n",
      "Converting ./data/train_3/3_24_0.mat ----> ./dataset/3_24_0.tfr\n",
      "elapsed: 2.665s\n",
      "Converting ./data/train_3/3_809_0.mat ----> ./dataset/3_809_0.tfr\n",
      "elapsed: 2.687s\n",
      "Converting ./data/train_3/3_1970_0.mat ----> ./dataset/3_1970_0.tfr\n",
      "elapsed: 2.742s\n",
      "Converting ./data/train_3/3_783_0.mat ----> ./dataset/3_783_0.tfr\n",
      "elapsed: 2.676s\n",
      "Converting ./data/train_3/3_1271_0.mat ----> ./dataset/3_1271_0.tfr\n",
      "elapsed: 2.684s\n",
      "Converting ./data/train_3/3_11_1.mat ----> ./dataset/3_11_1.tfr\n",
      "elapsed: 2.735s\n",
      "Converting ./data/train_3/3_968_0.mat ----> ./dataset/3_968_0.tfr\n",
      "elapsed: 2.688s\n",
      "Converting ./data/train_3/3_106_1.mat ----> ./dataset/3_106_1.tfr\n",
      "elapsed: 2.693s\n",
      "Converting ./data/train_3/3_1593_0.mat ----> ./dataset/3_1593_0.tfr\n",
      "elapsed: 2.679s\n",
      "finished\n"
     ]
    }
   ],
   "source": [
    "def mat2tfr(p_file):\n",
    "    # converting mat file as numpy\n",
    "    mat = loadmat(p_file)\n",
    "    data = mat['dataStruct']['data'][0][0]\n",
    "    # getting the filename and retrieving the patient, segement and label data\n",
    "    pat, seg, label = p_file.split('/')[-1].split('.')[0].split(\"_\")\n",
    "    dstfilename = \"./dataset/\" + pat + \"_\" + seg + \"_\" + label + \".tfr\"\n",
    "    print(\"Converting \" + p_file + \" ----> \" + dstfilename)\n",
    "    # TensorFlow Records writer\n",
    "    with tf.python_io.TFRecordWriter(dstfilename) as tfrwriter:\n",
    "        # Fill protobuff\n",
    "        protobuf = tf.train.Example(features=tf.train.Features(feature={\n",
    "                    'data' : tf.train.Feature(float_list=tf.train.FloatList(value=data.flatten().tolist())), \n",
    "                    'label': tf.train.Feature(int64_list=tf.train.Int64List(value=[int(label)])), \n",
    "                }))\n",
    "        write = tfrwriter.write(protobuf.SerializeToString())\n",
    "        \n",
    "        \n",
    "def dataset(folder, num_files=None):\n",
    "    # get files\n",
    "    filenames = glob.glob(folder + \"/*.mat\")\n",
    "    # randomize read files\n",
    "    np.random.shuffle(filenames)\n",
    "    # truncate reading\n",
    "    if num_files is not None:\n",
    "        filenames = filenames[:num_files]\n",
    "    print(\"Converting #%d files.\"%len(filenames))\n",
    "    \n",
    "    for files in filenames:\n",
    "        t = time.time()\n",
    "        mat2tfr(files)\n",
    "        elapsed = time.time() - t\n",
    "        print(\"elapsed: %.3fs\"%elapsed)        \n",
    "        \n",
    "dataset(\"./data/train_3\", 30)\n",
    "\n",
    "print('finished')        "
   ]
  },
  {
   "cell_type": "code",
   "execution_count": 55,
   "metadata": {
    "collapsed": false
   },
   "outputs": [
    {
     "name": "stdout",
     "output_type": "stream",
     "text": [
      "Loading #32 files.\n",
      "done\n"
     ]
    },
    {
     "data": {
      "image/png": "[encoded data removed]",
      "text/plain": [
       "<matplotlib.figure.Figure at 0x7f3e8abf1610>"
      ]
     },
     "metadata": {},
     "output_type": "display_data"
    }
   ],
   "source": [
    "slim = tf.contrib.slim\n",
    "\n",
    "def read_dataset(folder):\n",
    "    with tf.Graph().as_default():\n",
    "        filenames = glob.glob(folder)\n",
    "        print(\"Loading #%d files.\"%len(filenames))\n",
    "\n",
    "        reader = tf.TFRecordReader\n",
    "\n",
    "        keys_to_features = {\n",
    "            'data': tf.FixedLenFeature([240000*16], tf.float32),\n",
    "            'label': tf.FixedLenFeature([], tf.int64),\n",
    "        }\n",
    "        items_to_handlers = {\n",
    "            'data': slim.tfexample_decoder.Tensor('data'),\n",
    "            'label': slim.tfexample_decoder.Tensor('label'),      \n",
    "        }    \n",
    "        decoder = slim.tfexample_decoder.TFExampleDecoder(\n",
    "            keys_to_features, items_to_handlers)\n",
    "\n",
    "        items_to_descriptions = {\n",
    "            'data': '240000 sample points of iEEG.',\n",
    "            'label': 'Label 0 indicates interictal and 1 preictal.', \n",
    "        }\n",
    "\n",
    "        dataset = slim.dataset.Dataset(\n",
    "            data_sources=filenames, \n",
    "            reader=reader, \n",
    "            decoder=decoder, \n",
    "            num_samples=1, \n",
    "            items_to_descriptions=items_to_descriptions)\n",
    "\n",
    "        data_provider = slim.dataset_data_provider.DatasetDataProvider(\n",
    "            dataset, shuffle=True, num_epochs=None, common_queue_capacity=16, common_queue_min=1)\n",
    "\n",
    "        data, label = data_provider.get(['data', 'label'])\n",
    "\n",
    "        # Batch it up.\n",
    "        batch_size=1\n",
    "        data, label = tf.train.batch([data, label], \n",
    "                                     batch_size=batch_size, \n",
    "                                     num_threads=1, \n",
    "                                     capacity=2*batch_size)\n",
    "\n",
    "        with tf.Session() as sess:    \n",
    "            with slim.queues.QueueRunners(sess):\n",
    "                for i in xrange(2):\n",
    "                    np_data, np_label = sess.run([data, label])\n",
    "                    plt.subplot(211)\n",
    "                    plt.plot(np_data.squeeze().reshape([240000, 16])[:,:2])\n",
    "                    \n",
    "\n",
    "read_dataset('./dataset/*.tfr')\n",
    "    \n",
    "print('done')\n",
    "    "
   ]
  },
  {
   "cell_type": "code",
   "execution_count": 40,
   "metadata": {
    "collapsed": true
   },
   "outputs": [],
   "source": [
    "def plot_eeg(data):\n",
    "    plt.figure(figsize=(10,20))\n",
    "    for i in range(0,16):\n",
    "        plt.subplot(8,2,i+1)\n",
    "        plt.plot(data[:,i])\n",
    "    \n",
    "    #plt.savefig('foo.pdf', bbox_inches='tight')"
   ]
  },
  {
   "cell_type": "code",
   "execution_count": null,
   "metadata": {
    "collapsed": true
   },
   "outputs": [],
   "source": []
  }
 ],
 "metadata": {
  "kernelspec": {
   "display_name": "Python 2",
   "language": "python",
   "name": "python2"
  },
  "language_info": {
   "codemirror_mode": {
    "name": "ipython",
    "version": 2
   },
   "file_extension": ".py",
   "mimetype": "text/x-python",
   "name": "python",
   "nbconvert_exporter": "python",
   "pygments_lexer": "ipython2",
   "version": "2.7.6"
  }
 },
 "nbformat": 4,
 "nbformat_minor": 0
}
