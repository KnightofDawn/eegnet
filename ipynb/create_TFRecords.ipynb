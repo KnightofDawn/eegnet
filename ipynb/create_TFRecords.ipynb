{
 "cells": [
  {
   "cell_type": "code",
   "execution_count": null,
   "metadata": {
    "collapsed": false
   },
   "outputs": [],
   "source": [
    "import numpy as np\n",
    "from scipy.io import loadmat\n",
    "import tensorflow as tf\n",
    "import time\n",
    "import os\n",
    "import matplotlib.pyplot as plt\n",
    "%matplotlib inline\n",
    "\n",
    "print(\"import done\")"
   ]
  },
  {
   "cell_type": "markdown",
   "metadata": {},
   "source": [
    "### Create new train folders with only the files from train_and_test_data_labels_safe.csv"
   ]
  },
  {
   "cell_type": "code",
   "execution_count": null,
   "metadata": {
    "collapsed": false
   },
   "outputs": [],
   "source": [
    "import shutil\n",
    "\n",
    "# Read files list. Header: file, class (0: interictal, 1: preictal), safe (or not to use)\n",
    "files_list = np.genfromtxt('./train_and_test_data_labels_safe.csv', \n",
    "                           dtype=(\"|S15\", np.int32, np.int32), delimiter=',', skip_header=1)\n",
    "\n",
    "# Get only files which are safe to use\n",
    "files_list = [fl for fl in files_list if fl[2] == 1]\n",
    "\n",
    "# Construct new file names based on class field\n",
    "new_files_list = []\n",
    "for fl in files_list:\n",
    "    name = fl[0].split('.')[0].split('_')\n",
    "    if len(name) == 3:\n",
    "        name = name[0] + '_' + name[1] + '_' + str(fl[1]) + '.mat'\n",
    "    else:\n",
    "        name = name[0] + '_' + name[1] + 'test_' + str(fl[1]) + '.mat'\n",
    "    new_files_list.append(name)\n",
    "\n",
    "# Get only files names\n",
    "files_list = [fl[0] for fl in files_list]\n",
    "\n",
    "# Move files to new folder\n",
    "print('Train data size:', len(files_list))\n",
    "for idx in xrange(len(files_list)):\n",
    "    print('Copying', files_list[idx], '----->', new_files_list[idx], 'index:', idx)\n",
    "    shutil.copy('../data/train/'+files_list[idx], '../data/train_new/'+new_files_list[idx])"
   ]
  },
  {
   "cell_type": "markdown",
   "metadata": {},
   "source": [
    "### Create TFRecords"
   ]
  },
  {
   "cell_type": "code",
   "execution_count": null,
   "metadata": {
    "collapsed": false
   },
   "outputs": [],
   "source": [
    "_SOURCE_FILES =  \"../data/test/*.mat\"\n",
    "_DEST_FOLDER = \"../dataset/test/\"\n",
    "_NUM_FILES = None # None is the total number of files\n",
    "\n",
    "def mat2tfr(p_file):\n",
    "    # getting the filename and retrieving the patient, segement and label data\n",
    "    pat, seg, label = p_file.split('/')[-1].split('.')[0].split(\"_\")\n",
    "    filename = pat + \"_\" + seg + \"_\" + label + \".tfr\"\n",
    "    fullpathname = _DEST_FOLDER + filename\n",
    "    \n",
    "    if os.path.exists(fullpathname):\n",
    "        print(\"Dataset file\", fullpathname, \"already exists, skipping...\")\n",
    "    else: \n",
    "        t = time.time()    \n",
    "        print(\"Converting \" + p_file + \" ----> \" + fullpathname)\n",
    "        # converting mat file as numpy\n",
    "        mat = loadmat(p_file)\n",
    "        data = mat['dataStruct']['data'][0][0]\n",
    "        ## check if file is mainly zero's (100% dropout)\n",
    "        #if (np.count_nonzero(data) < 10) or (np.any(np.std(data, axis=0) < 0.5)):\n",
    "        #    print(\"WARNING: File %s is all dropout.\" %p_file)\n",
    "        #    return\n",
    "        # TensorFlow Records writer\n",
    "        with tf.python_io.TFRecordWriter(fullpathname) as tfrwriter:\n",
    "            # Fill protobuff\n",
    "            protobuf = tf.train.Example(features=tf.train.Features(feature={\n",
    "                        'data' : tf.train.Feature(float_list=tf.train.FloatList(value=data.flatten().tolist())), \n",
    "                        'label': tf.train.Feature(int64_list=tf.train.Int64List(value=[int(label)])), \n",
    "                        'filename': tf.train.Feature(bytes_list=tf.train.BytesList(value=[filename])), \n",
    "                    }))\n",
    "            write = tfrwriter.write(protobuf.SerializeToString())\n",
    "        elapsed = time.time() - t\n",
    "        print(\"elapsed: %.3fs\"%elapsed)\n",
    "        \n",
    "        \n",
    "def dataset(folder, num_files=None):\n",
    "    # get files\n",
    "    filenames = tf.gfile.Glob(folder)\n",
    "    # randomize read files\n",
    "    np.random.shuffle(filenames)\n",
    "    # truncate reading\n",
    "    if num_files is not None:\n",
    "        filenames = filenames[:num_files]\n",
    "    print(\"Converting #%d files.\"%len(filenames))\n",
    "    \n",
    "    for files in filenames:\n",
    "        mat2tfr(files)       \n",
    "\n",
    "\n",
    "dataset(_SOURCE_FILES, _NUM_FILES)\n",
    "\n",
    "print('finished')        "
   ]
  },
  {
   "cell_type": "code",
   "execution_count": null,
   "metadata": {
    "collapsed": true
   },
   "outputs": [],
   "source": [
    "def plot_eeg(data):\n",
    "    plt.figure(figsize=(10,20))\n",
    "    for i in range(0,16):\n",
    "        plt.subplot(8,2,i+1)\n",
    "        plt.plot(data[:,i])\n",
    "    \n",
    "    #plt.savefig('foo.pdf', bbox_inches='tight')"
   ]
  }
 ],
 "metadata": {
  "kernelspec": {
   "display_name": "Python 2",
   "language": "python",
   "name": "python2"
  },
  "language_info": {
   "codemirror_mode": {
    "name": "ipython",
    "version": 2
   },
   "file_extension": ".py",
   "mimetype": "text/x-python",
   "name": "python",
   "nbconvert_exporter": "python",
   "pygments_lexer": "ipython2",
   "version": "2.7.6"
  }
 },
 "nbformat": 4,
 "nbformat_minor": 0
}
