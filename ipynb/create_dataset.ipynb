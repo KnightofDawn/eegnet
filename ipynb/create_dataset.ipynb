{
 "cells": [
  {
   "cell_type": "markdown",
   "metadata": {},
   "source": [
    "#### Create Datasets by randomly mixing 10min segments of preictal and interictal data."
   ]
  },
  {
   "cell_type": "code",
   "execution_count": null,
   "metadata": {
    "collapsed": true
   },
   "outputs": [],
   "source": [
    "#convert .mat data into ndarray and compress it usingle pickle\n",
    "def mat_to_numpy(files):\n",
    "    print('Converting files ' + files[0] + ' to ' + files[-1])\n",
    "    data = list()\n",
    "    for idx, fl in enumerate(files):\n",
    "        #open mat file\n",
    "        mat = loadmat(fl)\n",
    "        #convert from ndarray object to ndarray\n",
    "        names = mat['dataStruct'].dtype.names\n",
    "        ndata = {n: mat['dataStruct'][n][0, 0] for n in names}\n",
    "        #detect 100% drop-out, all data is zero or std too low\n",
    "        if np.count_nonzero(ndata['data']) < 10:\n",
    "            print('WARNING: 100% drop-out in file', fl)\n",
    "            continue\n",
    "        sigma = np.std(ndata['data'])\n",
    "        if sigma < 1.0:\n",
    "            print('WARNING: Low std =', sigma, 'in file', fl)\n",
    "            continue\n",
    "        #detect if columns out of order\n",
    "        if not all(x<y for x, y in zip(ndata['channelIndices'][0], ndata['channelIndices'][0][1:])):\n",
    "            print('WARNING: Columns out of order in file' + fl)\n",
    "        # Normalize data: axis = 0 is to normalize along columns, vertical lines.\n",
    "        #todo: Is it ok to normalize or not?\n",
    "        data.append((ndata['data'] - np.mean(ndata['data'], axis=0))/sigma)\n",
    "    #convert list to ndarray\n",
    "    return np.asarray(data)\n",
    "\n",
    "nrOfFiles = 20\n",
    "\n",
    "def dataset(folder, name_pickle):\n",
    "    #get files\n",
    "    files_preictal = glob.glob(folder + \"/*1.mat\")\n",
    "    files_interictal = glob.glob(folder + \"/*0.mat\")\n",
    "    #randomize read files\n",
    "    np.random.shuffle(files_preictal)\n",
    "    np.random.shuffle(files_interictal)\n",
    "    #read files into ndarrays\n",
    "    data_preictal = mat_to_numpy(files_preictal[:nrOfFiles])\n",
    "    labels_preictal = np.ones(data_preictal.shape[0], dtype=np.int32)\n",
    "    data_interictal = mat_to_numpy(files_interictal[:nrOfFiles])\n",
    "    labels_interictal = np.zeros(data_interictal.shape[0], dtype=np.int32)\n",
    "    #concatenate preictal and interictal data\n",
    "    print('Merging and shuffling data..')\n",
    "    data_merge = np.concatenate((data_preictal, data_interictal), axis=0)\n",
    "    labels_merge = np.concatenate((labels_preictal, labels_interictal), axis=0)\n",
    "    #shuffle data and labels mantaining relation between them\n",
    "    shuffle_idx = np.random.permutation(data_merge.shape[0])\n",
    "    data_merge = data_merge[shuffle_idx,:,:]\n",
    "    labels_merge = labels_merge[shuffle_idx]\n",
    "    #bundle data and labels in dictionary\n",
    "    print(data_merge.shape)\n",
    "    save = {'data': data_merge, 'labels': labels_merge}\n",
    "    try:\n",
    "        with open(name_pickle, 'wb') as f:\n",
    "            print('Pickling to ' + name_pickle)\n",
    "            pickle.dump(save, f, pickle.HIGHEST_PROTOCOL)\n",
    "    except Exception as e:\n",
    "        print('Unable to save data to' + name_pickle + ' :', e)\n",
    "    \n",
    "dataset('./data/train_1', './data/trainsh1_norm.pickle')\n",
    "\n",
    "print('dataset done')"
   ]
  }
 ],
 "metadata": {
  "kernelspec": {
   "display_name": "Python 2",
   "language": "python",
   "name": "python2"
  },
  "language_info": {
   "codemirror_mode": {
    "name": "ipython",
    "version": 2
   },
   "file_extension": ".py",
   "mimetype": "text/x-python",
   "name": "python",
   "nbconvert_exporter": "python",
   "pygments_lexer": "ipython2",
   "version": "2.7.6"
  }
 },
 "nbformat": 4,
 "nbformat_minor": 0
}
