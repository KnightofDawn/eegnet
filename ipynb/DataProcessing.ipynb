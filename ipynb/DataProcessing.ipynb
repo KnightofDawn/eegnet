{
 "cells": [
  {
   "cell_type": "code",
   "execution_count": 1,
   "metadata": {
    "collapsed": false
   },
   "outputs": [],
   "source": [
    "import numpy as np\n",
    "from scipy.io import loadmat\n",
    "import tensorflow as tf\n",
    "import glob\n",
    "import time\n",
    "import matplotlib.pyplot as plt\n",
    "%matplotlib inline\n",
    "\n"
   ]
  },
  {
   "cell_type": "code",
   "execution_count": 2,
   "metadata": {
    "collapsed": true
   },
   "outputs": [],
   "source": [
    "def plot_eeg(data):\n",
    "    plt.figure(figsize=(10,20))\n",
    "    for i in range(0,16):\n",
    "        plt.subplot(8,2,i+1)\n",
    "        plt.plot(data[:,i])\n",
    "    \n",
    "    plt.savefig('foo.pdf', bbox_inches='tight')"
   ]
  },
  {
   "cell_type": "code",
   "execution_count": 3,
   "metadata": {
    "collapsed": false,
    "scrolled": true
   },
   "outputs": [
    {
     "name": "stdout",
     "output_type": "stream",
     "text": [
      "Converting #2 files.\n",
      "Converting ./datasets/train_1/1_1_0.mat ----> ./datasets/train_1_tfr/1_1_0.tfr\n",
      "elapsed: 2.734s\n",
      "Converting ./datasets/train_1/1_1_1.mat ----> ./datasets/train_1_tfr/1_1_1.tfr\n",
      "elapsed: 2.590s\n"
     ]
    }
   ],
   "source": [
    "\n",
    "def mat2tfr(p_file):\n",
    "    #converting mat file as numpy\n",
    "    mat = loadmat(p_file)\n",
    "    data = mat['dataStruct']['data'][0][0]\n",
    "\n",
    "\n",
    "    #getting the filename and retrieving the patient, segement and label data\n",
    "    pat, seg, label = p_file.split('/')[-1].split('.')[0].split(\"_\")\n",
    "\n",
    "    dstfolder = \"./datasets/train_1_tfr/\"\n",
    "    dstfilename = dstfolder +pat+\"_\"+seg+\"_\"+label+\".tfr\"\n",
    "    print(\"Converting \" + p_file + \" ----> \" + dstfilename)\n",
    "\n",
    "    #creating the TensorFlow Records \n",
    "    tfrwriter = tf.python_io.TFRecordWriter(dstfilename)\n",
    "    \n",
    "    #plot_eeg(data)\n",
    "    \n",
    "\n",
    "    \n",
    "    #reshape and transform to list due to TFRecords\n",
    "    data = np.reshape(data, -1).tolist()\n",
    "\n",
    "    #filling protobuff\n",
    "    protobuf = tf.train.Example(\n",
    "        features=tf.train.Features(feature={\n",
    "            'label':  tf.train.Feature(int64_list = tf.train.Int64List(value= [int(label)])),\n",
    "            'data' :  tf.train.Feature(float_list = tf.train.FloatList(value= data))\n",
    "    }))\n",
    "\n",
    "    tfrwriter.write(protobuf.SerializeToString())\n",
    "    tfrwriter.close()\n",
    "    \n",
    "        \n",
    "\n",
    "def dataset2tfr(folder):\n",
    "    filenames = glob.glob(folder)\n",
    "    print(\"Converting #%d files.\"%len(filenames))\n",
    "    \n",
    "    for files in filenames:\n",
    "        t = time.time()\n",
    "        \n",
    "        mat2tfr(files)\n",
    "\n",
    "        elapsed = time.time() - t\n",
    "        print(\"elapsed: %.3fs\"%elapsed)\n",
    "        \n",
    "        \n",
    "dataset2tfr(\"./datasets/train_1/1_1_*.mat\")\n",
    "        "
   ]
  },
  {
   "cell_type": "code",
   "execution_count": 4,
   "metadata": {
    "collapsed": false
   },
   "outputs": [
    {
     "name": "stdout",
     "output_type": "stream",
     "text": [
      "Loading #2 files.\n",
      "{'data': <tf.Tensor 'ParseSingleExample/Squeeze_data:0' shape=() dtype=float32>, 'label': <tf.Tensor 'ParseSingleExample/Squeeze_label:0' shape=() dtype=int64>}\n"
     ]
    }
   ],
   "source": [
    "def tfr_reader(folder):\n",
    "    filenames = glob.glob(folder)\n",
    "    print(\"Loading #%d files.\"%len(filenames))\n",
    "    \n",
    "    \n",
    "    #generate file queue\n",
    "    filename_queue = tf.train.string_input_producer(filenames, num_epochs=2, shuffle=True) \n",
    "    \n",
    "    #open reader and read queue\n",
    "    reader = tf.TFRecordReader()\n",
    "    _, protobuf = reader.read(filename_queue)\n",
    "    \n",
    "    \n",
    "    features = tf.parse_single_example(\n",
    "      protobuf,\n",
    "      # Defaults are not specified since both keys are required.\n",
    "      features={\n",
    "          'label': tf.FixedLenFeature([], tf.int64),\n",
    "          'data': tf.FixedLenFeature([], tf.float32)\n",
    "      })\n",
    "    \n",
    "    \n",
    "    print(features)\n",
    "\n",
    "#     Convert label from a scalar uint8 tensor to an int32 scalar.\n",
    "#     label = tf.cast(features['label'], tf.int64)\n",
    "#     print(label)\n",
    "#     data = tf.cast(features['data'], tf.float32)\n",
    "#     print(data)\n",
    "    \n",
    "\n",
    "    \n",
    "    \n",
    "    \n",
    "    \n",
    "tfr_reader(\"./datasets/train_1_tfr/*.tfr\")"
   ]
  },
  {
   "cell_type": "markdown",
   "metadata": {},
   "source": [
    "## Questions\n"
   ]
  },
  {
   "cell_type": "markdown",
   "metadata": {},
   "source": [
    "    - Are all datasets 240000x16?\n",
    "    - Do the 16 sensors in the same brain locations?\n",
    "    - "
   ]
  }
 ],
 "metadata": {
  "kernelspec": {
   "display_name": "Python 2",
   "language": "python",
   "name": "python2"
  },
  "language_info": {
   "codemirror_mode": {
    "name": "ipython",
    "version": 2
   },
   "file_extension": ".py",
   "mimetype": "text/x-python",
   "name": "python",
   "nbconvert_exporter": "python",
   "pygments_lexer": "ipython2",
   "version": "2.7.6"
  }
 },
 "nbformat": 4,
 "nbformat_minor": 0
}
