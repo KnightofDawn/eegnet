{
 "cells": [
  {
   "cell_type": "code",
   "execution_count": 1,
   "metadata": {
    "collapsed": false
   },
   "outputs": [
    {
     "name": "stdout",
     "output_type": "stream",
     "text": [
      "import done\n"
     ]
    }
   ],
   "source": [
    "import numpy as np\n",
    "from scipy.io import loadmat\n",
    "import tensorflow as tf\n",
    "import glob\n",
    "import time\n",
    "import matplotlib.pyplot as plt\n",
    "%matplotlib inline\n",
    "\n",
    "print(\"import done\")"
   ]
  },
  {
   "cell_type": "code",
   "execution_count": 2,
   "metadata": {
    "collapsed": true
   },
   "outputs": [],
   "source": [
    "def plot_eeg(data):\n",
    "    plt.figure(figsize=(10,20))\n",
    "    for i in range(0,16):\n",
    "        plt.subplot(8,2,i+1)\n",
    "        plt.plot(data[:,i])\n",
    "    \n",
    "    plt.savefig('foo.pdf', bbox_inches='tight')"
   ]
  },
  {
   "cell_type": "code",
   "execution_count": 3,
   "metadata": {
    "collapsed": false,
    "scrolled": true
   },
   "outputs": [
    {
     "name": "stdout",
     "output_type": "stream",
     "text": [
      "Converting #2 files.\n",
      "Converting ./data/train_1/1_1_0.mat ----> ./dataset/1_1_0.tfr\n",
      "elapsed: 0.269s\n",
      "Converting ./data/train_1/1_1_1.mat ----> ./dataset/1_1_1.tfr\n",
      "elapsed: 0.153s\n",
      "finished\n"
     ]
    }
   ],
   "source": [
    "def mat2tfr(p_file):\n",
    "    #converting mat file as numpy\n",
    "    mat = loadmat(p_file)\n",
    "    data = mat['dataStruct']['data'][0][0]\n",
    "\n",
    "    #getting the filename and retrieving the patient, segement and label data\n",
    "    pat, seg, label = p_file.split('/')[-1].split('.')[0].split(\"_\")\n",
    "\n",
    "    dstfolder = \"./dataset/\"\n",
    "    dstfilename = dstfolder + pat + \"_\" + seg + \"_\" + label + \".tfr\"\n",
    "    print(\"Converting \" + p_file + \" ----> \" + dstfilename)\n",
    "\n",
    "    #plot_eeg(data)\n",
    "    \n",
    "    #creating the TensorFlow Records \n",
    "    tfrwriter = tf.python_io.TFRecordWriter(dstfilename)\n",
    "    \n",
    "    #reshape and transform to list due to TFRecords\n",
    "    data = np.reshape(data, -1).tolist()\n",
    "\n",
    "    #filling protobuff\n",
    "    protobuf = tf.train.Example(\n",
    "        features=tf.train.Features(feature={\n",
    "            'label':  tf.train.Feature(int64_list = tf.train.Int64List(value= [int(label)])),\n",
    "            #'data' :  tf.train.Feature(float_list = tf.train.FloatList(value= data))\n",
    "    }))\n",
    "\n",
    "    tfrwriter.write(protobuf.SerializeToString())\n",
    "    tfrwriter.close()\n",
    "    \n",
    "\n",
    "def dataset2tfr(folder):\n",
    "    filenames = glob.glob(folder)\n",
    "    print(\"Converting #%d files.\"%len(filenames))\n",
    "    \n",
    "    for files in filenames:\n",
    "        t = time.time()\n",
    "        \n",
    "        mat2tfr(files)\n",
    "\n",
    "        elapsed = time.time() - t\n",
    "        print(\"elapsed: %.3fs\"%elapsed)\n",
    "        \n",
    "        \n",
    "dataset2tfr(\"./data/train_1/1_1_*.mat\")\n",
    "\n",
    "print('finished')\n",
    "        "
   ]
  },
  {
   "cell_type": "code",
   "execution_count": 7,
   "metadata": {
    "collapsed": false
   },
   "outputs": [
    {
     "name": "stdout",
     "output_type": "stream",
     "text": [
      "Loading #2 files.\n",
      "[array([1, 0])]\n",
      "done\n"
     ]
    }
   ],
   "source": [
    "slim = tf.contrib.slim\n",
    "\n",
    "with tf.Graph().as_default():\n",
    "    filenames = glob.glob(\"./dataset/*.tfr\")\n",
    "    print(\"Loading #%d files.\"%len(filenames))\n",
    "    \n",
    "    reader = tf.TFRecordReader\n",
    "    \n",
    "    keys_to_features = {\n",
    "        'label': tf.FixedLenFeature([], tf.int64),\n",
    "        #'data': tf.FixedLenFeature([], tf.float32),\n",
    "    }\n",
    "    items_to_handlers = {\n",
    "      'label': slim.tfexample_decoder.Tensor('label'),\n",
    "      #'data': slim.tfexample_decoder.Tensor('data'),\n",
    "    }    \n",
    "    decoder = slim.tfexample_decoder.TFExampleDecoder(\n",
    "        keys_to_features, items_to_handlers)\n",
    "    \n",
    "    items_to_descriptions = {\n",
    "        'label': 'Label indicating preictal and interictal.', \n",
    "        #'data': '240000 sample points of iEEG.',\n",
    "    }\n",
    "    \n",
    "    dataset = slim.dataset.Dataset(\n",
    "        data_sources=filenames, \n",
    "        reader=reader, \n",
    "        decoder=decoder, \n",
    "        num_samples=1, \n",
    "        items_to_descriptions=items_to_descriptions)\n",
    "    \n",
    "    data_provider = slim.dataset_data_provider.DatasetDataProvider(\n",
    "        dataset, shuffle=True, num_epochs=None, common_queue_capacity=16, common_queue_min=1)\n",
    "    \n",
    "    labels = data_provider.get(['label'])\n",
    "    \n",
    "    # Batch it up.\n",
    "    batch_size=2\n",
    "    labels = tf.train.batch(labels, batch_size=batch_size, num_threads=1, capacity=2 * batch_size)\n",
    "    \n",
    "    with tf.Session() as sess:    \n",
    "        with slim.queues.QueueRunners(sess):\n",
    "            np_labels = sess.run([labels])\n",
    "            print(np_labels)\n",
    "    \n",
    "print('done')\n",
    "    "
   ]
  },
  {
   "cell_type": "code",
   "execution_count": null,
   "metadata": {
    "collapsed": true
   },
   "outputs": [],
   "source": []
  }
 ],
 "metadata": {
  "kernelspec": {
   "display_name": "Python 2",
   "language": "python",
   "name": "python2"
  },
  "language_info": {
   "codemirror_mode": {
    "name": "ipython",
    "version": 2
   },
   "file_extension": ".py",
   "mimetype": "text/x-python",
   "name": "python",
   "nbconvert_exporter": "python",
   "pygments_lexer": "ipython2",
   "version": "2.7.6"
  }
 },
 "nbformat": 4,
 "nbformat_minor": 0
}
