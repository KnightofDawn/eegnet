{
 "cells": [
  {
   "cell_type": "code",
   "execution_count": 11,
   "metadata": {
    "collapsed": false
   },
   "outputs": [],
   "source": [
    "import numpy as np\n",
    "from scipy.io import loadmat\n",
    "import tensorflow as tf\n",
    "import glob\n",
    "import time\n",
    "import matplotlib.pyplot as plt\n",
    "%matplotlib inline\n",
    "\n",
    "#convert .mat data into ndarray and compress it usingle pickle\n",
    "def mat_to_numpy(files,norm = True):\n",
    "    print('Converting files ' + files[0] + ' to ' + files[-1])\n",
    "    data = list()\n",
    "    for idx, fl in enumerate(files):\n",
    "        #open mat file\n",
    "        mat = loadmat(fl)\n",
    "        #convert from ndarray object to ndarray\n",
    "        names = mat['dataStruct'].dtype.names\n",
    "        ndata = {n: mat['dataStruct'][n][0, 0] for n in names}\n",
    "        #detect 100% drop-out, all data is zero\n",
    "        if np.count_nonzero(ndata['data']) < 10:\n",
    "            print('WARNING: 100% drop-out in file', fl)\n",
    "            continue\n",
    "        #detect if columns out of order\n",
    "        if not all(x<y for x, y in zip(ndata['channelIndices'][0], ndata['channelIndices'][0][1:])):\n",
    "            print('WARNING: Columns out of order in file' + fl)\n",
    "        # Normalize data: axis = 0 is to normalize along columns, vertical lines.\n",
    "        #todo: Is it ok to normalize or not?\n",
    "        if(norm):\n",
    "            data.append((ndata['data'] - np.mean(ndata['data'], axis=0))/np.std(ndata['data']))\n",
    "    #convert list to ndarray\n",
    "    return np.asarray(data)\n",
    "\n",
    "\n"
   ]
  },
  {
   "cell_type": "code",
   "execution_count": 15,
   "metadata": {
    "collapsed": false,
    "scrolled": true
   },
   "outputs": [
    {
     "name": "stdout",
     "output_type": "stream",
     "text": [
      "Converting #1 files.\n",
      "Converting ./datasets/train_1/1_9_1.mat ---->./datasets/train_1_tfr/1_9_1.tfr\n",
      "2.8790910244\n"
     ]
    },
    {
     "data": {
      "image/png": "[encoded data removed]",
      "text/plain": [
       "<matplotlib.figure.Figure at 0x7f3659271dd0>"
      ]
     },
     "metadata": {},
     "output_type": "display_data"
    }
   ],
   "source": [
    "\n",
    "def mat2tfr(p_file):\n",
    "    #converting mat file as numpy\n",
    "    mat = loadmat(p_file)\n",
    "    data = mat['dataStruct']['data'][0][0]\n",
    "\n",
    "\n",
    "    #getting the filename and retrieving the patient, segement and label data\n",
    "    pat, seg, label = p_file.split('/')[-1].split('.')[0].split(\"_\")\n",
    "\n",
    "    dstfolder = \"./datasets/train_1_tfr/\"\n",
    "    dstfilename = dstfolder +pat+\"_\"+seg+\"_\"+label+\".tfr\"\n",
    "    print(\"Converting \" + p_file + \" ---->\" + dstfilename)\n",
    "\n",
    "    #creating the TensorFlow Records \n",
    "    tfrwriter = tf.python_io.TFRecordWriter(dstfilename)\n",
    "    \n",
    "    plt.subplot(2,1,1)\n",
    "    plt.plot(data[:,0])\n",
    "    plt.subplot(2,1,2)\n",
    "    plt.plot(data[:,1])\n",
    "    plt.subplot(2,2,1)\n",
    "    plt.plot(data[:,2])\n",
    "    \n",
    "    #reshape and transform to list due to TFRecords\n",
    "    data = np.reshape(data, -1).tolist()\n",
    "\n",
    "    #filling protobuff\n",
    "    protobuf = tf.train.Example(\n",
    "        features=tf.train.Features(feature={\n",
    "            'label':  tf.train.Feature( \n",
    "                int64_list = tf.train.Int64List(value= [int(label)])),\n",
    "            'data' :  tf.train.Feature(\n",
    "                float_list=tf.train.FloatList(value= data))\n",
    "    }))\n",
    "\n",
    "    tfrwriter.write(protobuf.SerializeToString())\n",
    "    tfrwriter.close()\n",
    "\n",
    "        \n",
    "        \n",
    "        \n",
    "\n",
    "def dataset2tfr(folder):\n",
    "    filesinfolder = glob.glob(folder)\n",
    "    print(\"Converting #%d files.\"%len(filesinfolder))\n",
    "    \n",
    "    for files in filesinfolder:\n",
    "        t = time.time()\n",
    "        \n",
    "        mat2tfr(files)\n",
    "\n",
    "        elapsed = time.time() - t\n",
    "        print(elapsed)\n",
    "        \n",
    "        \n",
    "dataset2tfr(\"./datasets/train_1/1_9_1.mat\")\n",
    "        "
   ]
  },
  {
   "cell_type": "markdown",
   "metadata": {},
   "source": [
    "## Questions\n"
   ]
  },
  {
   "cell_type": "markdown",
   "metadata": {},
   "source": [
    "    - Are all datasets 240000x16?\n",
    "    - Do the 16 sensors in the same brain locations?\n",
    "    - "
   ]
  }
 ],
 "metadata": {
  "kernelspec": {
   "display_name": "Python 2",
   "language": "python",
   "name": "python2"
  },
  "language_info": {
   "codemirror_mode": {
    "name": "ipython",
    "version": 2
   },
   "file_extension": ".py",
   "mimetype": "text/x-python",
   "name": "python",
   "nbconvert_exporter": "python",
   "pygments_lexer": "ipython2",
   "version": "2.7.6"
  }
 },
 "nbformat": 4,
 "nbformat_minor": 0
}
